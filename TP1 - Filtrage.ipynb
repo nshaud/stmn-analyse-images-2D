{
 "cells": [
  {
   "cell_type": "markdown",
   "metadata": {
    "slideshow": {
     "slide_type": "slide"
    }
   },
   "source": [
    "# Séance 1: notions de filtrage pour le traitement d'images"
   ]
  },
  {
   "cell_type": "markdown",
   "metadata": {
    "slideshow": {
     "slide_type": "slide"
    }
   },
   "source": [
    "#  Transformée de Fourier pour les images"
   ]
  },
  {
   "cell_type": "markdown",
   "metadata": {
    "slideshow": {
     "slide_type": "-"
    }
   },
   "source": [
    "La transformée de Fourier est un outil omniprésent d'analyse du signal qui permet de passer du domaine spatial (ou temporel) au domaine fréquentiel. Dans le cas du son, la transformée de Fourier va permettre d'extraire les fréquences qui représentent différents types de variations d'intensité sonores : les basses fréquences représentent les graves (variations lentes), les hautes fréquences représentent les aigus (variations rapides).\n",
    "\n",
    "Pour une image, le signal est bidimensionnel. Les fréquences faibles représentent de grandes surfaces homogènes avec peu de changements d'intensité (ou de couleur) tandis que les hautes fréquences représentent des changements brusques d'intensité, comme les contours des objets ou des turbulences."
   ]
  },
  {
   "cell_type": "markdown",
   "metadata": {
    "slideshow": {
     "slide_type": "slide"
    }
   },
   "source": [
    "Rappelons (?) que mathématiquement, la transformée de Fourier d'un signal réel 1D $f$ est la fonction $\\hat{f}$ :\n",
    "\n",
    "$$\\hat{f}(\\nu) = \\int_{-\\infty}^{+\\infty} f(x) e^{-2i\\pi x \\nu} dx$$\n",
    "\n",
    "On suppose dans cette définition que $f$ est intégrable sur $\\mathbb{R}$."
   ]
  },
  {
   "cell_type": "markdown",
   "metadata": {
    "slideshow": {
     "slide_type": "slide"
    }
   },
   "source": [
    "En pratique on travaille sur des signaux numériques discrets (et donc pas continus). On utilise alors la Transformée de Fourier Discrète (TFD) qui s'obtient par :\n",
    "\n",
    "$$\\hat{f}[k] = \\frac{1}{N} \\sum_{j=0}^{N-1} f[j] e^{-2i\\pi j \\frac{k}{N}}$$\n",
    "\n",
    "pour $f$ un signal discret à $N$ valeurs."
   ]
  },
  {
   "cell_type": "markdown",
   "metadata": {
    "slideshow": {
     "slide_type": "slide"
    }
   },
   "source": [
    "Pour un signal bidimensionnel (comme une image) défini sur une grille $H\\times W$, on peut généraliser cette définition et écrire la Transformée de Fourier Discrète 2D :\n",
    "\n",
    "$$\\hat{f}[k_x, k_y] = \\frac{1}{H W} \\sum_{p=0}^{H-1} \\sum_{q=0}^{W-1} f[p, q] \\exp\\left(-2i\\pi \\left(\\frac{p \\cdot k_x}{H} + \\frac{q \\cdot k_y}{W}\\right)\\right)$$"
   ]
  },
  {
   "cell_type": "markdown",
   "metadata": {
    "slideshow": {
     "slide_type": "slide"
    }
   },
   "source": [
    "Autrement dit, la transformée de Fourier d'une image $I$ est une image **complexe** $\\hat{I}$ de mêmes dimensions.\n",
    "\n",
    "Mettons ceci en pratique."
   ]
  },
  {
   "cell_type": "code",
   "execution_count": null,
   "metadata": {
    "slideshow": {
     "slide_type": "fragment"
    }
   },
   "outputs": [],
   "source": [
    "import matplotlib.pyplot as plt\n",
    "import numpy as np\n",
    "import skimage\n",
    "\n",
    "plt.rcParams['figure.figsize'] = (10, 10)"
   ]
  },
  {
   "cell_type": "markdown",
   "metadata": {
    "slideshow": {
     "slide_type": "slide"
    }
   },
   "source": [
    "Nous allons utiliser deux images d'exemple pour mieux interpréter l'effet de la transformée de Fourier :\n",
    "- un rectangle blanc sur fond noir,\n",
    "- une photo en niveaux de gris.\n",
    "\n",
    "Une fois n'est pas coutume, utilisons une image d'un animal mignon qui n'est pas un chat."
   ]
  },
  {
   "cell_type": "code",
   "execution_count": null,
   "metadata": {
    "slideshow": {
     "slide_type": "fragment"
    }
   },
   "outputs": [],
   "source": [
    "from scipy import misc\n",
    "rect = np.zeros((100, 100))\n",
    "rect[45:55, 40:60] = 1.\n",
    "img = misc.face(gray=True) # ignorons la couleur pour l'instant\n",
    "fig = plt.figure()\n",
    "fig.add_subplot(121) and plt.imshow(rect, cmap=\"gray\")\n",
    "fig.add_subplot(122) and plt.imshow(img, cmap=\"gray\") and plt.show()"
   ]
  },
  {
   "cell_type": "markdown",
   "metadata": {
    "slideshow": {
     "slide_type": "slide"
    }
   },
   "source": [
    "L'algorithme de la transformée de Fourier rapide (FFT) existe également pour le cas 2D. Nous n'allons pas l'implémenter nous-mêmes mais plutôt utiliser les outils disponibles dans `SciPy`.\n",
    "\n",
    "`fft2` et `ifft2` correspondent ainsi à la transformée de Fourier rapide en 2D et à son inverse."
   ]
  },
  {
   "cell_type": "code",
   "execution_count": null,
   "metadata": {
    "slideshow": {
     "slide_type": "fragment"
    }
   },
   "outputs": [],
   "source": [
    "# Transformée de Fourier sur les images\n",
    "from scipy.fft import fft2, ifft2\n",
    "from scipy.fft import fftshift, ifftshift\n",
    "\n",
    "fourier = fft2(rect)\n",
    "print(f\"La transformée de Fourier de l'image du carré est une matrice \"\n",
    "      f\"de type {fourier.dtype} et de dimensions {fourier.shape}\")"
   ]
  },
  {
   "cell_type": "markdown",
   "metadata": {
    "slideshow": {
     "slide_type": "slide"
    }
   },
   "source": [
    "La transformée de Fourier produit un résultat en complexe. Ce qui nous intéresse le plus souvent est de savoir quelle est l'amplitude de chacun de ses coefficients (c'est-à-dire la norme du complexe associé) car celle-ci est liée à l'énergie de la fréquence considérée. La norme du complexe s'obtient avec `np.abs` :"
   ]
  },
  {
   "cell_type": "code",
   "execution_count": null,
   "metadata": {
    "slideshow": {
     "slide_type": "fragment"
    }
   },
   "outputs": [],
   "source": [
    "fourier_amplitude = np.abs(fourier)\n",
    "plt.imshow(fourier_amplitude, cmap=\"magma\") and plt.show()"
   ]
  },
  {
   "cell_type": "markdown",
   "metadata": {
    "slideshow": {
     "slide_type": "slide"
    }
   },
   "source": [
    "Cette visualisation n'est pas idéale car l'origine (0,0) se trouve en haut à gauche (remarquez que les coins sont symétriques ! comme pour une transformée de Fourier 1D où l'on observe une symétrie par rapport à l'origine). La fonction `fftshift` permet de décaler la visualisation de sorte à mettre l'origine au centre de l'image :"
   ]
  },
  {
   "cell_type": "code",
   "execution_count": null,
   "metadata": {
    "slideshow": {
     "slide_type": "fragment"
    }
   },
   "outputs": [],
   "source": [
    "fourier_amplitude = np.abs(fftshift(fourier))\n",
    "plt.imshow(fourier_amplitude, cmap=\"magma\") and plt.show()"
   ]
  },
  {
   "cell_type": "markdown",
   "metadata": {
    "slideshow": {
     "slide_type": "subslide"
    }
   },
   "source": [
    "**Question** : qu'observe-t-on ? Pourquoi ? (raisonner par analogie avec le cas d'un signal rectangulaire 1D)"
   ]
  },
  {
   "cell_type": "markdown",
   "metadata": {
    "slideshow": {
     "slide_type": "slide"
    }
   },
   "source": [
    "On peut réaliser le même test avec une image constante :"
   ]
  },
  {
   "cell_type": "code",
   "execution_count": null,
   "metadata": {
    "slideshow": {
     "slide_type": "fragment"
    }
   },
   "outputs": [],
   "source": [
    "gray = 0.5 * np.ones((100, 100))\n",
    "\n",
    "def plot_image_fourier(image, log=False, figsize=(12, 6)):\n",
    "    # Conversion en niveaux de gris si l'image est en couleurs\n",
    "    if len(image.shape) == 3 and image.shape[-1] == 3:\n",
    "        from skimage.color import rgb2gray\n",
    "        image = rgb2gray(image)\n",
    "    fourier = np.abs(fftshift(fft2(image)))\n",
    "    if log:\n",
    "        fourier = np.log(fourier + 1e-3)\n",
    "    fig, ax = plt.subplots(nrows=1, ncols=2, figsize=figsize)\n",
    "    ax[0].imshow(image, cmap=\"gray\", vmin=0., vmax=1.)\n",
    "    ax[0].set_title(\"Image\")\n",
    "    ax[1].imshow(fourier, cmap=\"magma\")\n",
    "    ax[1].set_title(\"Transformée de Fourier\")\n",
    "    plt.show()\n",
    "\n",
    "plot_image_fourier(gray)"
   ]
  },
  {
   "cell_type": "markdown",
   "metadata": {
    "slideshow": {
     "slide_type": "subslide"
    }
   },
   "source": [
    "**Question :** qu'observe-t-on ? Pourquoi ? (raisonner par analogie avec un signal constant 1D)"
   ]
  },
  {
   "cell_type": "markdown",
   "metadata": {
    "slideshow": {
     "slide_type": "slide"
    }
   },
   "source": [
    "Maintenant que nous comprenons un peu mieux la généralisation de la transformée de Fourier aux signaux 2D, passons à notre image de raton-laveur. Comme nous l'avons dit, la transformée de Fourier est une image complexe, on ne peut pas la visualiser directement. On peut s'inspirer des techniques de visualisation de spectre dans le cas 1D. On va donc calculer la norme de chaque coefficient du spectre 2D et en afficher le logarithme :"
   ]
  },
  {
   "cell_type": "code",
   "execution_count": null,
   "metadata": {
    "slideshow": {
     "slide_type": "fragment"
    }
   },
   "outputs": [],
   "source": [
    "plt.imshow(np.log(np.abs(fftshift(fft2(img)))), cmap=\"magma\") and plt.show()"
   ]
  },
  {
   "cell_type": "markdown",
   "metadata": {
    "slideshow": {
     "slide_type": "slide"
    }
   },
   "source": [
    "Un (léger) problème de cette façon de faire est que la transformée de Fourier fait l'hypothèse que le signal observé correspond à une période d'un signal périodique. Ce n'est bien entendu pas le cas pour les images mais cela introduit une discontinuité (et donc des hautes fréquences) aux bords de l'image. La « croix » est provoquée par ces discontinuités. Une façon de s'en débarasser est d'utiliser un fenêtrage qui réduit l'impact des bords :"
   ]
  },
  {
   "cell_type": "code",
   "execution_count": null,
   "metadata": {
    "slideshow": {
     "slide_type": "fragment"
    }
   },
   "outputs": [],
   "source": [
    "from skimage.filters import window\n",
    "from skimage.util import img_as_float\n",
    "image = img_as_float(img)\n",
    "\n",
    "wimage = image * window('hann', image.shape)\n",
    "plt.imshow(wimage, cmap=\"gray\") and plt.show()"
   ]
  },
  {
   "cell_type": "markdown",
   "metadata": {
    "slideshow": {
     "slide_type": "slide"
    }
   },
   "source": [
    "Cela permet de mieux mettre en évidence le spectre réel de l'image :"
   ]
  },
  {
   "cell_type": "code",
   "execution_count": null,
   "metadata": {
    "slideshow": {
     "slide_type": "-"
    }
   },
   "outputs": [],
   "source": [
    "plt.imshow(np.log(np.abs(fftshift(fft2(wimage)))), cmap=\"magma\") and plt.show()"
   ]
  },
  {
   "cell_type": "markdown",
   "metadata": {
    "slideshow": {
     "slide_type": "fragment"
    }
   },
   "source": [
    "Nous verrons par la suite l'effet de différents filtres sur la transformée de Fourier (et comment interpréter certains noyaux de convolution du point de vue fréquentiel). "
   ]
  },
  {
   "cell_type": "markdown",
   "metadata": {
    "slideshow": {
     "slide_type": "slide"
    }
   },
   "source": [
    "## Convolution avec un noyau"
   ]
  },
  {
   "cell_type": "markdown",
   "metadata": {
    "slideshow": {
     "slide_type": "-"
    }
   },
   "source": [
    "On rappelle que pour deux signaux réels, on note $*$ le produit de convolution défini par :\n",
    "$$(f*g)(x) = \\int_{-\\infty}^{+\\infty} f(x-t)g(t) dt$$\n",
    "\n",
    "et sa version discrète :\n",
    "$$(f*g)[k] = \\sum_{p=-\\infty}^{+\\infty} f[x - p] g[p]$$"
   ]
  },
  {
   "cell_type": "markdown",
   "metadata": {
    "slideshow": {
     "slide_type": "fragment"
    }
   },
   "source": [
    "Une propriété intéressante de la transformée de Fourier est qu'elle transforme la convolution en produit, c'est-à-dire qu'en notant $\\mathcal{F}$ la transformée de Fourier :\n",
    "\n",
    "$$\\mathcal{F}(f * g) = \\mathcal{F}(f) \\cdot \\mathcal{F}(g)$$"
   ]
  },
  {
   "attachments": {
    "Capture%20d%E2%80%99%C3%A9cran%20de%202021-04-08%2012-34-57.png": {
     "image/png": "[encoded data removed]"
    }
   },
   "cell_type": "markdown",
   "metadata": {
    "slideshow": {
     "slide_type": "slide"
    }
   },
   "source": [
    "Dans le cas 2D (pour des images, donc), on peut écrire la convolution bidimensionnelle comme le produit entre une image $I$ de dimensions $(H, W)$ et un noyau $K$ de dimensions $(k_h, k_w)$. On définit alors le filtre $\\mathcal{K}$ comme étant le résultat de la convolution de $I$ par $K$:\n",
    "\n",
    "$$\\mathcal{K}(I)[m,n] = K * I[m, n] = \\sum_{i=-p}^{+p} \\sum_{j=-q}^{+q} I[m - i, n -j] \\cdot K[i,j]$$\n",
    "\n",
    "où $p = \\frac{k_h - 1}{2}$ et $q = \\frac{k_w - 1}{2}$.\n",
    "\n",
    "![Capture%20d%E2%80%99%C3%A9cran%20de%202021-04-08%2012-34-57.png](attachment:Capture%20d%E2%80%99%C3%A9cran%20de%202021-04-08%2012-34-57.png)"
   ]
  },
  {
   "cell_type": "markdown",
   "metadata": {
    "slideshow": {
     "slide_type": "slide"
    }
   },
   "source": [
    "# Filtrage d'images numériques\n",
    "\n",
    "Le filtrage est un élément fondamental du traitement du signal. Comme nous l'avons vu précédemment, une image numérique est un signal 2D discrétisé sur lequel nous pouvons utiliser toutes les techniques classiques d'analyse. Et nous n'allons pas nous en priver…"
   ]
  },
  {
   "cell_type": "markdown",
   "metadata": {
    "slideshow": {
     "slide_type": "slide"
    }
   },
   "source": [
    "## Gradients"
   ]
  },
  {
   "cell_type": "markdown",
   "metadata": {
    "slideshow": {
     "slide_type": "fragment"
    }
   },
   "source": [
    "Si l'on considère une image en niveaux de gris $I$ comme une fonction $(x,y) \\rightarrow p \\in \\mathbb{R}$, alors on peut considérer les *gradients* d'une image, c'est-à-dire ses dérivées partielles selon $x$ et selon $y$. On note conventionnellement $\\nabla I$ le gradient de $I$:\n",
    "\n",
    "$$\\nabla I=\\begin{bmatrix}\n",
    "                g_{x} \\\\\n",
    "                g_{y}\n",
    "                \\end{bmatrix} = \\begin{bmatrix}\n",
    "                \\frac{\\partial f}{\\partial x} \\\\\n",
    "                \\frac{\\partial f}{\\partial y}\n",
    "            \\end{bmatrix}\n",
    "$$"
   ]
  },
  {
   "attachments": {
    "image.png": {
     "image/png": "[encoded data removed]"
    }
   },
   "cell_type": "markdown",
   "metadata": {
    "slideshow": {
     "slide_type": "subslide"
    }
   },
   "source": [
    "![image.png](attachment:image.png)"
   ]
  },
  {
   "cell_type": "markdown",
   "metadata": {
    "slideshow": {
     "slide_type": "slide"
    }
   },
   "source": [
    "Néanmoins, comme $I$ prend ses valeurs sur une grille discrète (et finie) de pixels, il n'est pas possible de calculer le gradient réel. En revanche, il est possible d'utiliser la méthode des différences finies pour estimer le gradient :\n",
    "\n",
    "$$g_x[i,j] = I[i+1, j] - I[i, j]$$\n",
    "$$g_y[i,j] = I[i, j + 1] - I[i, j]$$"
   ]
  },
  {
   "cell_type": "markdown",
   "metadata": {
    "slideshow": {
     "slide_type": "slide"
    }
   },
   "source": [
    "Pour rappel, la méthode des différences finies permet de calculer une approximation de la dérivée d'une fonction en utilisant la définition de la dérivée d'une fonction $f$ :\n",
    "$$f'(x) = \\lim_{\\varepsilon \\rightarrow 0} \\frac{f(x+\\varepsilon) - f(x)}{\\varepsilon}$$\n",
    "\n",
    "Pour $\\varepsilon$ fixe, on obtient alors :\n",
    "\n",
    "$$\\Delta_h[f](x) = \\frac{1}{\\varepsilon} \\left(f(x + \\varepsilon) - f(x)\\right)$$\n",
    "\n",
    "Dans notre cas, $\\varepsilon = 1$, ce qui donne l'expression ci-dessus."
   ]
  },
  {
   "cell_type": "markdown",
   "metadata": {
    "slideshow": {
     "slide_type": "slide"
    }
   },
   "source": [
    "Le plus souvent, on va s'intéresser à la norme du gradient, c'est-à-dire à :\n",
    "$$\\mathbf{G} = \\| \\nabla I \\| = \\sqrt{g_x^2 + g_y^2}$$"
   ]
  },
  {
   "cell_type": "markdown",
   "metadata": {
    "slideshow": {
     "slide_type": "fragment"
    }
   },
   "source": [
    "Outre la norme du gradient, il peut être intéressant de regarder sa direction, c'est-à-dire son angle:\n",
    "$$\\theta = \\tan^{-1} \\left(\\frac{g_y}{g_x}\\right)$$\n",
    "\n",
    "C'est une propriété que nous allons peu utiliser mais qui peut être pratique dans certaines situations."
   ]
  },
  {
   "cell_type": "markdown",
   "metadata": {
    "slideshow": {
     "slide_type": "slide"
    }
   },
   "source": [
    "### Gradients et convolution"
   ]
  },
  {
   "cell_type": "markdown",
   "metadata": {
    "slideshow": {
     "slide_type": "-"
    }
   },
   "source": [
    "En pratique, on reformule généralement le gradient par différences finies selon $x$ et $y$ par un produit de convolution entre l'image $I$ et un noyau adapté :\n",
    "\n",
    "$$\\frac{\\partial f}{\\partial x} = \\begin{bmatrix} -1 +1 \\end{bmatrix} * \\mathbf{I}$$\n",
    "$$\\frac{\\partial f}{\\partial y} = \\begin{bmatrix} -1 \\\\+1 \\end{bmatrix} * \\mathbf{I}$$"
   ]
  },
  {
   "cell_type": "markdown",
   "metadata": {
    "slideshow": {
     "slide_type": "slide"
    }
   },
   "source": [
    "Cette formulation n'est pas idéale (elle décale l'image d'un demi-pixel) et on préfère un filtre $3\\times1$ avec un 0 au centre :\n",
    "$$\\begin{bmatrix}-1\\\\ 0\\\\ +1\\end{bmatrix}$$\n",
    "\n",
    "ce qui revient à réécrire le gradient comme :\n",
    "$$g_x[i,j] = I[i+1, j] - I[i-1, j]$$\n",
    "$$g_y[i,j] = I[i, j + 1] - I[i, j-1]$$"
   ]
  },
  {
   "cell_type": "markdown",
   "metadata": {
    "slideshow": {
     "slide_type": "slide"
    }
   },
   "source": [
    "On peut également calculer les gradients selon les diagonales en utilisant les noyaux suivants :\n",
    "    \n",
    "$$\\begin{bmatrix}+1 & 0\\\\ 0 & -1\\end{bmatrix} \\quad\\text{et}\\quad \\begin{bmatrix}0 & +1\\\\ -1 & 0\\end{bmatrix}$$.\n",
    "\n",
    "On appelle parfois ces noyaux de convolution les filtres de Roberts (du nom de l'ingénieur Lawrence Roberts qui les a proposés en 1963). "
   ]
  },
  {
   "cell_type": "markdown",
   "metadata": {
    "slideshow": {
     "slide_type": "slide"
    }
   },
   "source": [
    "### Prewitt"
   ]
  },
  {
   "cell_type": "markdown",
   "metadata": {
    "slideshow": {
     "slide_type": "-"
    }
   },
   "source": [
    "Pour calculer le gradient, on peut réaliser la convolution avec les noyaux ci-dessus mais on va généralement utiliser un noyau de la forme :\n",
    "\n",
    "$$\\mathbf{G}_{\\text{horizontal}} = \\begin{bmatrix} \n",
    "                -1 & -1 & -1 \\\\\n",
    "                0 & 0 & 0 \\\\\n",
    "                +1 & +1 & +1\n",
    "\\end{bmatrix} * \\mathbf{I}$$\n",
    "\n",
    "Ce noyau est appelé filtre de Prewitt (du nom de son inventrice). Il s'écrit de la façon suivante avec NumPy :"
   ]
  },
  {
   "cell_type": "code",
   "execution_count": null,
   "metadata": {
    "slideshow": {
     "slide_type": "fragment"
    }
   },
   "outputs": [],
   "source": [
    "top_prewitt = np.array([[1, 1, 1], [0, 0, 0], [-1, -1, -1]])"
   ]
  },
  {
   "cell_type": "markdown",
   "metadata": {
    "slideshow": {
     "slide_type": "slide"
    }
   },
   "source": [
    "Pour l'appliquer à notre image, `scipy` fournit des outils de base pour réaliser une convolution en 2D :"
   ]
  },
  {
   "cell_type": "code",
   "execution_count": null,
   "metadata": {
    "slideshow": {
     "slide_type": "-"
    }
   },
   "outputs": [],
   "source": [
    "from scipy.signal import fftconvolve, convolve2d"
   ]
  },
  {
   "cell_type": "code",
   "execution_count": null,
   "metadata": {
    "slideshow": {
     "slide_type": "fragment"
    }
   },
   "outputs": [],
   "source": [
    "filtered = convolve2d(img, top_prewitt)\n",
    "plt.imshow(filtered, cmap=\"gray\") and plt.show()"
   ]
  },
  {
   "cell_type": "markdown",
   "metadata": {
    "slideshow": {
     "slide_type": "slide"
    }
   },
   "source": [
    "On peut filtrer l'image des gradients pour ne conserver que les gradients horizontaux qui dépassent une certaine intensité :"
   ]
  },
  {
   "cell_type": "code",
   "execution_count": null,
   "metadata": {
    "slideshow": {
     "slide_type": "-"
    }
   },
   "outputs": [],
   "source": [
    "plt.imshow(filtered > 100, cmap=\"gray\") and plt.show()"
   ]
  },
  {
   "cell_type": "markdown",
   "metadata": {
    "slideshow": {
     "slide_type": "fragment"
    }
   },
   "source": [
    "**Question** : en vous basant sur l'écriture du filtre de Prewitt horizontal ci-dessus, écrire le filtre de Prewitt vertical. L'appliquer sur l'image et visualiser le résultat."
   ]
  },
  {
   "cell_type": "code",
   "execution_count": null,
   "metadata": {
    "slideshow": {
     "slide_type": "-"
    }
   },
   "outputs": [],
   "source": []
  },
  {
   "cell_type": "markdown",
   "metadata": {
    "slideshow": {
     "slide_type": "slide"
    }
   },
   "source": [
    "## Flou"
   ]
  },
  {
   "cell_type": "markdown",
   "metadata": {
    "slideshow": {
     "slide_type": "-"
    }
   },
   "source": [
    "Le flou est un concept général de traitement d'image qui designe la perte de **netteté**, c'est-à-dire la difficulté, voire l'impossibilité, de distinguer des détails de l'image. Il existe différents types de flou qui ne sont pas provoqués par le même phénomène."
   ]
  },
  {
   "cell_type": "markdown",
   "metadata": {
    "slideshow": {
     "slide_type": "slide"
    }
   },
   "source": [
    "### Flou moyen (*box blur*)"
   ]
  },
  {
   "cell_type": "markdown",
   "metadata": {
    "slideshow": {
     "slide_type": "-"
    }
   },
   "source": [
    "En général, le phénomène de floutage apparaît lorsque la valeur d'un pixel « déborde » sur ses voisins. Concrètement, la valeur d'un pixel ne correspond plus exactement à un endroit précis de l'espace, mais à un mélange de couleurs obtenu en additionnant plusieurs pixels d'une même région.\n",
    "\n",
    "Le flou le plus simple est par conséquent le flou moyen, qui pour chaque pixel associe la moyenne des valeurs de ses voisins à distance au plus $k$ :\n",
    "\n",
    "$$\\tilde{I}[i,j] = \\frac{1}{k^2} \\sum_{p={-k/2}}^{k/2} \\sum_{q={-k/2}}^{k/2} I[p,q]$$"
   ]
  },
  {
   "cell_type": "markdown",
   "metadata": {
    "slideshow": {
     "slide_type": "slide"
    }
   },
   "source": [
    "Cela revient à réaliser une convolution par un noyau dont la matrice ne contient que des 1. Par exemple, pour un flou moyen $3\\times3$, le filtre correspondant est obtenu par le noyau :\n",
    "\n",
    "$$\\frac{1}{9}\\begin{bmatrix} 1 & 1 & 1 \\\\ 1 & 1 & 1 \\\\ 1 & 1 & 1 \\end{bmatrix}$$"
   ]
  },
  {
   "cell_type": "markdown",
   "metadata": {
    "slideshow": {
     "slide_type": "fragment"
    }
   },
   "source": [
    "*Note*: en anglais, on appelle ce type de filtre un *box linear filter*, d'où le nom *box blur*."
   ]
  },
  {
   "cell_type": "markdown",
   "metadata": {
    "slideshow": {
     "slide_type": "slide"
    }
   },
   "source": [
    "En utilisant la fonction `convolve2d` de SciPy, nous pouvons visualiser l'effet d'un tel flou moyen sur notre image de raton-laveur :"
   ]
  },
  {
   "cell_type": "code",
   "execution_count": null,
   "metadata": {
    "slideshow": {
     "slide_type": "fragment"
    }
   },
   "outputs": [],
   "source": [
    "k = 10\n",
    "box_filter = np.ones((k, k)) * 1/k * 1/k\n",
    "filtered = convolve2d(img, box_filter, mode=\"same\")\n",
    "plt.imshow(filtered, cmap=\"gray\") and plt.show()"
   ]
  },
  {
   "cell_type": "markdown",
   "metadata": {
    "slideshow": {
     "slide_type": "slide"
    }
   },
   "source": [
    "Nous pouvons ensuite examiner l'effet de ce floutage dans le domaine fréquentiel :"
   ]
  },
  {
   "cell_type": "code",
   "execution_count": null,
   "metadata": {
    "slideshow": {
     "slide_type": "-"
    }
   },
   "outputs": [],
   "source": [
    "plt.imshow(np.log(np.abs(fftshift(fft2(filtered)))), cmap=\"magma\") and plt.show()"
   ]
  },
  {
   "cell_type": "markdown",
   "metadata": {
    "slideshow": {
     "slide_type": "slide"
    }
   },
   "source": [
    "Ce résultat vous surprend-il ? Pourtant rappelons-nous que la transformée de Fourier d'un rectangle produit un sinus cardinal selon $x$ et $y$. La convolution entre deux images (ou une image et un noyau) correspond à un produit dans l'espace de Fourier. Le spectre 2D de l'image filtrée correspond donc au produit du spectre de l'image originale et du spectre du filtre rectangulaire !"
   ]
  },
  {
   "cell_type": "code",
   "execution_count": null,
   "metadata": {
    "slideshow": {
     "slide_type": "slide"
    }
   },
   "outputs": [],
   "source": [
    "w, h = img.shape\n",
    "# Filtre rectangulaire k x k\n",
    "box = np.zeros_like(img)\n",
    "box[w//2 - k//2: w//2 + k//2 + 1, h//2 - k//2: h//2 + k//2 + 1] = 1.\n",
    "\n",
    "\n",
    "# Transformée de Fourier\n",
    "fourier = fftshift(np.log(np.abs(fft2(img))))\n",
    "fourier_box = fftshift(np.abs(fft2(box)))\n",
    "\n",
    "fig, ax = plt.subplots(nrows=2, ncols=2, figsize=(12, 10))\n",
    "ax[0,0].imshow(img, cmap=\"gray\")\n",
    "ax[0,0].set_title(\"Image\")\n",
    "ax[1,0].imshow(box, cmap=\"gray\")\n",
    "ax[1,0].set_title(\"Filtre\")\n",
    "ax[0,1].imshow(fourier, cmap=\"magma\")\n",
    "ax[0,1].set_title(\"Image (domaine fréquentiel, échelle log)\")\n",
    "ax[1,1].imshow(fourier_box, cmap=\"magma\")\n",
    "ax[1,1].set_title(\"Filtre (domaine fréquentiel)\")\n",
    "plt.show()"
   ]
  },
  {
   "cell_type": "markdown",
   "metadata": {
    "slideshow": {
     "slide_type": "slide"
    }
   },
   "source": [
    "### Flou gaussien\n",
    "\n",
    "Le flou gaussien est un flou particulièrement utilisé pour lisser une image. En 2D, le noyau gaussien correspondant est la matrice $G$ telle que :\n",
    "$$G_{p,q} = \\frac{1}{2\\pi\\sigma^2} \\exp\\left(-\\frac{(p-p_0)^2 + (q-q_0)^2}{2\\sigma^2}\\right)$$\n",
    "\n",
    "c'est-à-dire que chaque ligne et chaque colonne de la matrice correspondant à la densité de probabilité d'une loi normale centrée en $(p_0, q_0)$ et d'écart-type $\\sigma$. En pratique, on réalise une approximation de ce noyau en considérant une matrice de taille $k \\times k$ et on laisse tomber les valeurs $G_{p,q}$ si $p \\gt k$ ou $q \\gt k$ (si $k$ est assez grand par rapport à $\\sigma$, ces valeurs sont proches de zéro de toute façon).\n",
    "\n",
    "L'intérêt de ce filtre est que la transformée de Fourier d'une gaussienne est encore une gaussienne. Un flou gaussien va donc réduire les composantes haute fréquence : c'est un filtre passe-bas (d'où son utilisation pour le lissage)."
   ]
  },
  {
   "attachments": {
    "image.png": {
     "image/png": "[encoded data removed]"
    }
   },
   "cell_type": "markdown",
   "metadata": {
    "slideshow": {
     "slide_type": "slide"
    }
   },
   "source": [
    "### Flou cinétique\n",
    "\n",
    "Le flou cinétique (ou flou de mouvement) est le flou provoqué sur la photographie par le mouvement de l'objet lors du temps de pose.\n",
    "\n",
    "![image.png](attachment:image.png)\n",
    "\n",
    "Il est difficile de donner un modèle général de filtre de convolution qui permet de reproduire le flou cinétique car celui-ci dépend du mouvement du sujet photographié. Le problème est que s'il y a plusieurs sujets (imaginez une voiture et des piétons), ces derniers peuvent bouger de différentes façons, indépendamment les uns des autres !"
   ]
  },
  {
   "cell_type": "markdown",
   "metadata": {
    "slideshow": {
     "slide_type": "slide"
    }
   },
   "source": [
    "### Flou de bougé"
   ]
  },
  {
   "cell_type": "markdown",
   "metadata": {
    "slideshow": {
     "slide_type": "-"
    }
   },
   "source": [
    "Le flou de bougé correspond au déplacement **de l'appareil** pendant l'exposition de la photographie (tremblements, instabilité, mouvement de l'objectif, etc.). Contrairement au flou cinétique, ce flou s'applique de façon globale sur toute l'image à la fois. Mais les déplacements peuvent être complexes (translation + rotation, pas forcément à vitesse constante)."
   ]
  },
  {
   "cell_type": "markdown",
   "metadata": {
    "slideshow": {
     "slide_type": "fragment"
    }
   },
   "source": [
    "Pour des mouvements simples, on peut toutefois tenter de deviner un noyau approximatif. Par exemple, le noyau ci-dessous simule grossièrement un mouvement de translation à 45° où chaque pixel s'est déplacé d'environ 1 pixel durant le temps d'exposition:\n",
    "\n",
    "$$\\frac{1}{3}\\begin{bmatrix} 0 & 0 & 1 \\\\ 0 & 1 & 0 \\\\ 1 & 0 & 0 \\end{bmatrix}$$\n",
    "\n",
    "c'est-à-dire que l'on a déplacé l'appareil à 45° pendant la prise de la photo."
   ]
  },
  {
   "cell_type": "code",
   "execution_count": null,
   "metadata": {
    "slideshow": {
     "slide_type": "subslide"
    }
   },
   "outputs": [],
   "source": [
    "k = 10 # changez la valeur de k pour modifier l'intensité du mouvement\n",
    "box_filter = 1./k * np.eye(k)[::-1]\n",
    "filtered = convolve2d(img, box_filter, mode=\"same\")\n",
    "plt.imshow(filtered, cmap=\"gray\") and plt.show()"
   ]
  },
  {
   "cell_type": "markdown",
   "metadata": {
    "slideshow": {
     "slide_type": "slide"
    }
   },
   "source": [
    "## Filtrage avec `scikit-image`"
   ]
  },
  {
   "cell_type": "markdown",
   "metadata": {
    "slideshow": {
     "slide_type": "-"
    }
   },
   "source": [
    "Tous les filtres que nous avons vu précédemment sont préintégrés dans `scikit-image` qui propose en effet le bien nommé sous-module `filters`. Pas besoin donc de redéfinir les noyaux ou d'effectuer la convolution avec `scipy`, notre bibliothèque va le faire pour nous !"
   ]
  },
  {
   "cell_type": "markdown",
   "metadata": {
    "slideshow": {
     "slide_type": "slide"
    }
   },
   "source": [
    "### Flou gaussien"
   ]
  },
  {
   "cell_type": "markdown",
   "metadata": {
    "slideshow": {
     "slide_type": "-"
    }
   },
   "source": [
    "Le flou gaussien est implémenté dans `skimage.filters.gaussian`. Le principal paramètre est `sigma` qui correspond au $\\sigma$ (l'écart-type) du noyau gaussien :"
   ]
  },
  {
   "cell_type": "code",
   "execution_count": null,
   "metadata": {
    "slideshow": {
     "slide_type": "fragment"
    }
   },
   "outputs": [],
   "source": [
    "from skimage import filters\n",
    "\n",
    "filtered = filters.gaussian(image, sigma=2)\n",
    "plt.imshow(filtered, cmap=\"gray\") and plt.show()"
   ]
  },
  {
   "cell_type": "markdown",
   "metadata": {
    "slideshow": {
     "slide_type": "slide"
    }
   },
   "source": [
    "Dans l'espace de Fourier, on peut constater que l'intensité des composantes spectrales décroit fortement pour les hautes fréquences (dans les coins) :"
   ]
  },
  {
   "cell_type": "code",
   "execution_count": null,
   "metadata": {
    "slideshow": {
     "slide_type": "-"
    }
   },
   "outputs": [],
   "source": [
    "plt.imshow(np.log(np.abs(fftshift(fft2(filtered)))), cmap=\"magma\") and plt.show()"
   ]
  },
  {
   "cell_type": "markdown",
   "metadata": {
    "slideshow": {
     "slide_type": "slide"
    }
   },
   "source": [
    "### Sobel"
   ]
  },
  {
   "cell_type": "markdown",
   "metadata": {
    "slideshow": {
     "slide_type": "-"
    }
   },
   "source": [
    "Une alternative à l'opérateur de Prewitt est le filtre de Sobel, proposé par Sobel et Feldman en 1968. Son écriture est légèrement différente mais le principe est identique :\n",
    "\n",
    "$$\\mathbf{G}_x = \\begin{bmatrix} \n",
    " +1 & 0 & -1  \\\\\n",
    "+2 & 0 & -2 \\\\\n",
    "+1 & 0 & -1 \n",
    "\\end{bmatrix} * \\mathbf{I}\n",
    "\\quad;\\quad\n",
    "\\mathbf{G}_y = \\begin{bmatrix} \n",
    " +1 & +2 & +1\\\\\n",
    " 0 & 0 & 0 \\\\\n",
    "-1 & -2 & -1\n",
    "\\end{bmatrix} * \\mathbf{I}$$\n",
    "\n",
    "Le filtre de Sobel est au filtre de Prewitt ce que le filtre triangulaire est au filtre rectangulaire pour les signaux 1D.\n",
    "\n",
    "Il est très simple d'application avec `skimage`. Il est possible d'utiliser soit `sobel_h` et `sobel_v` pour obtenir les gradients horizontaux et verticaux, soit directement `sobel` si l'on ne s'intéresse qu'à l'amplitude du gradient :"
   ]
  },
  {
   "cell_type": "code",
   "execution_count": null,
   "metadata": {
    "slideshow": {
     "slide_type": "subslide"
    }
   },
   "outputs": [],
   "source": [
    "gradients_h = filters.sobel_h(image)\n",
    "gradients_v = filters.sobel_v(image)\n",
    "gradients = filters.sobel(image)\n",
    "\n",
    "fig, ax = plt.subplots(nrows=1, ncols=3, figsize=(15, 6))\n",
    "ax[0].imshow(gradients_h, cmap=\"gray\")\n",
    "ax[0].set_title(\"Gradient horizontaux\")\n",
    "ax[0].axis(\"off\")\n",
    "ax[1].imshow(gradients_v, cmap=\"gray\")\n",
    "ax[1].set_title(\"Gradient verticaux\")\n",
    "ax[1].axis(\"off\")\n",
    "ax[2].imshow(gradients, cmap=\"gray\")\n",
    "ax[2].set_title(\"Norme de $G$\")\n",
    "ax[2].axis(\"off\")\n",
    "plt.show()"
   ]
  },
  {
   "cell_type": "markdown",
   "metadata": {
    "slideshow": {
     "slide_type": "slide"
    }
   },
   "source": [
    "## Bruit et qualité d'image"
   ]
  },
  {
   "cell_type": "markdown",
   "metadata": {
    "slideshow": {
     "slide_type": "-"
    }
   },
   "source": [
    "Nous avons vu précédemment que le flou est une source possible de dégradation de la qualité d'image. Mais ce n'est pas la seule. Outre la perte de netteté, une image peut souffrir de la présence de bruit. Celui-ci se traduit par la présence de grains et d'artefacts qui peuvent réduire le contraste, masquer des détails etc."
   ]
  },
  {
   "cell_type": "markdown",
   "metadata": {
    "slideshow": {
     "slide_type": "slide"
    }
   },
   "source": [
    "Illustrons quelques-uns des différents types de bruit qui peuvent survenir en imagerie numérique (et comment essayer de s'en débarasser). La photo que nous allons utiliser pour ce test est une photo du lancement d'une fusée Falcon 9 de SpaceX."
   ]
  },
  {
   "cell_type": "code",
   "execution_count": null,
   "metadata": {
    "slideshow": {
     "slide_type": "-"
    }
   },
   "outputs": [],
   "source": [
    "rocket = skimage.data.rocket()\n",
    "plt.imshow(rocket) and plt.show()"
   ]
  },
  {
   "cell_type": "markdown",
   "metadata": {
    "slideshow": {
     "slide_type": "slide"
    }
   },
   "source": [
    "### Bruit thermique (Johnson-Nyquist)\n",
    "\n",
    "Ce bruit est provoqué par les imperfections du capteur. Dans un appareil photo numérique, l'image est capturée par une matrice 2D de pixels qui transforme les photons reçus pour chaque cellule en courant électrique. La température de l'appareil et le bruit électrique introduisent un courant non-désiré qui perturbe légèrement la valeur de l'intensité du pixel.\n",
    "\n",
    "On modélise couramment ce bruit par un bruit gaussien additif, c'est-à-dire que le pixel bruité est obtenu par:\n",
    "\n",
    "$$\\tilde{I}[i,j] = I[i,j] + \\varepsilon \\quad \\text{avec} \\quad \\varepsilon \\sim \\mathcal{N}(0, \\sigma)$$"
   ]
  },
  {
   "cell_type": "markdown",
   "metadata": {
    "slideshow": {
     "slide_type": "subslide"
    }
   },
   "source": [
    "Sur une image grise, cela donne le bruit suivant :"
   ]
  },
  {
   "cell_type": "code",
   "execution_count": null,
   "metadata": {
    "slideshow": {
     "slide_type": "-"
    }
   },
   "outputs": [],
   "source": [
    "from skimage.util import random_noise\n",
    "\n",
    "pure_noise = random_noise(0.5*np.ones((100, 100)), seed=0)\n",
    "plt.imshow(pure_noise, cmap=\"gray\") and plt.show()"
   ]
  },
  {
   "cell_type": "markdown",
   "metadata": {
    "slideshow": {
     "slide_type": "subslide"
    }
   },
   "source": [
    "En couleur, ce bruit s'ajoute de façon indépendante sur chaque composante :"
   ]
  },
  {
   "cell_type": "code",
   "execution_count": null,
   "metadata": {
    "slideshow": {
     "slide_type": "-"
    }
   },
   "outputs": [],
   "source": [
    "rocket_gaussian = random_noise(rocket, mode=\"gaussian\", seed=0)\n",
    "plt.imshow(rocket_gaussian) and plt.show()"
   ]
  },
  {
   "cell_type": "markdown",
   "metadata": {
    "slideshow": {
     "slide_type": "subslide"
    }
   },
   "source": [
    "Dans le domaine fréquentiel, l'ajout du bruit gaussien revient à ajouter un bruit blanc gaussien additif sur l'image. "
   ]
  },
  {
   "cell_type": "code",
   "execution_count": null,
   "metadata": {
    "slideshow": {
     "slide_type": "-"
    }
   },
   "outputs": [],
   "source": [
    "plot_image_fourier(pure_noise, log=True, figsize=(16, 8))"
   ]
  },
  {
   "cell_type": "code",
   "execution_count": null,
   "metadata": {
    "slideshow": {
     "slide_type": "subslide"
    }
   },
   "outputs": [],
   "source": [
    "plot_image_fourier(rocket, log=True, figsize=(16, 8))"
   ]
  },
  {
   "cell_type": "code",
   "execution_count": null,
   "metadata": {
    "slideshow": {
     "slide_type": "subslide"
    }
   },
   "outputs": [],
   "source": [
    "plot_image_fourier(rocket_gaussian, log=True, figsize=(16, 8))"
   ]
  },
  {
   "cell_type": "markdown",
   "metadata": {
    "slideshow": {
     "slide_type": "slide"
    }
   },
   "source": [
    "### Bruit poivre et sel"
   ]
  },
  {
   "cell_type": "markdown",
   "metadata": {
    "slideshow": {
     "slide_type": "-"
    }
   },
   "source": [
    "Ce bruit est provoqué généralement par une erreur de transmission, une corruption des données lors du stockage ou de poussières fines sur le capteur au moment de l'acquisition. Dans le cas d'une image en niveaux de gris, ce bruit se matérialise par des pixels blancs saturés (sel) ou parfaitement noirs (poivre). On parle ainsi de bruit **impulsionnel**."
   ]
  },
  {
   "cell_type": "markdown",
   "metadata": {
    "slideshow": {
     "slide_type": "subslide"
    }
   },
   "source": [
    "Voici son effet sur une image grise :"
   ]
  },
  {
   "cell_type": "code",
   "execution_count": null,
   "metadata": {
    "slideshow": {
     "slide_type": "-"
    }
   },
   "outputs": [],
   "source": [
    "pure_noise = random_noise(0.5*np.ones((100, 100)), mode=\"s&p\", seed=0)\n",
    "plt.imshow(pure_noise, cmap=\"gray\") and plt.show()"
   ]
  },
  {
   "cell_type": "markdown",
   "metadata": {
    "slideshow": {
     "slide_type": "subslide"
    }
   },
   "source": [
    "Comme pour le bruit thermique, ce bruit s'ajoute de façon indépendante sur chaque composante lorsque l'image est en couleur. Notez que le bruit impulsionnel poivre et sel est nettement plus piqué que le bruit gaussien."
   ]
  },
  {
   "cell_type": "code",
   "execution_count": null,
   "metadata": {
    "slideshow": {
     "slide_type": "-"
    }
   },
   "outputs": [],
   "source": [
    "rocket_sp = random_noise(rocket, mode=\"s&p\")\n",
    "plt.imshow(rocket_sp) and plt.show()"
   ]
  },
  {
   "cell_type": "markdown",
   "metadata": {
    "slideshow": {
     "slide_type": "slide"
    }
   },
   "source": [
    "### Débruitage par filtre médian"
   ]
  },
  {
   "cell_type": "markdown",
   "metadata": {
    "slideshow": {
     "slide_type": "-"
    }
   },
   "source": [
    "Face à la présence de bruit dans une image numérique, une question naturelle à se poser est : peut-on retirer le bruit pour retrouver l'image de départ ? En règle générale la réponse est non. En revanche, il est souvent possible de retirer une partie du bruit pour obtenir une version approchée de l'image désirée.\n",
    "\n",
    "Dans le cas du bruit impulsionnel, un filtre particulièrement efficace est le **filtre médian**. Contrairement aux filtres que nous avons vu précédemment, le filtre médian ne peut pas s'exprimer sous forme de convolution : il s'agit d'un filtre non-linéaire.\n",
    "\n",
    "En effet, l'application du filtre médian consiste à remplacer chaque pixel dans un voisinage $k \\times k$ par la valeur médiane des pixels de ce voisinage :\n",
    "\n",
    "$$I_\\text{filtrée}[i,j] = \\operatorname{m}_{i-k/2 \\leq p,q \\leq i+k/2} (I[p,q])$$ où $m$ désigne l'opérateur statistique de calcul de la médiane."
   ]
  },
  {
   "cell_type": "markdown",
   "metadata": {
    "slideshow": {
     "slide_type": "subslide"
    }
   },
   "source": [
    "Il est bien sûr implémenté par `skimage`. Par défaut, il s'applique sur un carré $3\\times3$ mais il est possible de définir d'autres voisinages en changeant l'élément structurant `selem` (nous verrons dans un TP suivant à quoi cela correspond)."
   ]
  },
  {
   "cell_type": "code",
   "execution_count": null,
   "metadata": {
    "slideshow": {
     "slide_type": "fragment"
    }
   },
   "outputs": [],
   "source": [
    "from skimage import filters\n",
    "\n",
    "pure_noise_denoised = filters.median(pure_noise)\n",
    "plt.imshow(pure_noise_denoised, cmap=\"gray\", vmax=1.0, vmin=0.0) and plt.show()"
   ]
  },
  {
   "cell_type": "markdown",
   "metadata": {
    "slideshow": {
     "slide_type": "subslide"
    }
   },
   "source": [
    "Et sur notre image de fusée :"
   ]
  },
  {
   "cell_type": "code",
   "execution_count": null,
   "metadata": {
    "slideshow": {
     "slide_type": "-"
    }
   },
   "outputs": [],
   "source": [
    "rocket_denoised = filters.median(rocket_sp)\n",
    "plt.imshow(rocket_denoised) and plt.show()"
   ]
  },
  {
   "cell_type": "markdown",
   "metadata": {
    "slideshow": {
     "slide_type": "subslide"
    }
   },
   "source": [
    "Nous pouvons vérifier dans le domaine fréquentiel l'effet du débruitage par filtre médian :"
   ]
  },
  {
   "cell_type": "code",
   "execution_count": null,
   "metadata": {
    "slideshow": {
     "slide_type": "fragment"
    }
   },
   "outputs": [],
   "source": [
    "plot_image_fourier(rocket, log=True, figsize=(16, 8))"
   ]
  },
  {
   "cell_type": "code",
   "execution_count": null,
   "metadata": {
    "slideshow": {
     "slide_type": "subslide"
    }
   },
   "outputs": [],
   "source": [
    "plot_image_fourier(rocket_sp, log=True, figsize=(16, 8))"
   ]
  },
  {
   "cell_type": "code",
   "execution_count": null,
   "metadata": {
    "slideshow": {
     "slide_type": "subslide"
    }
   },
   "outputs": [],
   "source": [
    "plot_image_fourier(rocket_denoised, log=True, figsize=(16, 8))"
   ]
  },
  {
   "cell_type": "markdown",
   "metadata": {
    "slideshow": {
     "slide_type": "slide"
    }
   },
   "source": [
    "### Débruitage par filtre gaussien\n",
    "\n",
    "Puisque le bruit tend à ajouter des composantes dans les hautes fréquences et que le filtre gaussien lisse justement l'image et élimine les hautes fréquences, il paraît naturel de vouloir utiliser le flou gaussien comme technique de débruitage."
   ]
  },
  {
   "cell_type": "code",
   "execution_count": null,
   "metadata": {
    "slideshow": {
     "slide_type": "subslide"
    }
   },
   "outputs": [],
   "source": [
    "plt.imshow(filters.gaussian(rocket_gaussian, sigma=0.5)) and plt.show()"
   ]
  },
  {
   "cell_type": "markdown",
   "metadata": {
    "slideshow": {
     "slide_type": "subslide"
    }
   },
   "source": [
    "**Question** : jusqu'à quelle valeur de sigma faut-il monter pour faire disparaître le bruit gaussien complètement ? Le bruit impulsionnel ? Le résultat est-il satisfaisant ? Pourquoi ?"
   ]
  },
  {
   "cell_type": "markdown",
   "metadata": {
    "slideshow": {
     "slide_type": "slide"
    }
   },
   "source": [
    "### Autres débruitages\n",
    "\n",
    "Il existe de nombreuses méthodes de débruitage, notamment dans le cadre du bruit gaussien. L'objectif n'est pas ici d'être exhaustif mais mentionnons deux familles de méthodes plutôt importantes."
   ]
  },
  {
   "cell_type": "markdown",
   "metadata": {
    "slideshow": {
     "slide_type": "slide"
    }
   },
   "source": [
    "Une approche alternative au filtre médian pour le débruitage est le filtrage bilatéral. Il s'agit d'un autre type de filtre non-linéaire qui s'attache notamment à préserver les contours présents dans l'image, de sorte à éliminer les hautes fréquences *dues au bruit* mais pas celles liées au gradient naturel de l'image. Cette méthode est implémentée dans `skimage` dans le module `restoration` :"
   ]
  },
  {
   "cell_type": "code",
   "execution_count": null,
   "metadata": {
    "slideshow": {
     "slide_type": "-"
    }
   },
   "outputs": [],
   "source": [
    "from skimage import restoration\n",
    "\n",
    "rocket_tv = restoration.denoise_bilateral(rocket_gaussian, channel_axis=2, sigma_color=0.05, sigma_spatial=2)\n",
    "plt.imshow(rocket_tv) and plt.show()"
   ]
  },
  {
   "cell_type": "markdown",
   "metadata": {
    "slideshow": {
     "slide_type": "slide"
    }
   },
   "source": [
    "Une autre approche repose sur le constant suivant : une image naturellement comporte relativement peu de gradients hors des espaces de transition. Mais une image bruitée se retrouve avec des gradients un peu partout où du bruit a été ajouté. Par conséquent, la quantité de gradients dans une image bruitée est plus élevée que dans une image non-bruitée.\n",
    "\n",
    "On peut préciser cette quantité en définissant la **variation totale** (*total variation*) comme étant la somme des intensités des gradients de toute l'image :\n",
    "$$V(I) = \\sum_{i,j} \\sqrt{G_x[i,j]^2 + G_y[i,j]^2}$$\n",
    "\n",
    "Le débruitage par variation totale consiste alors à trouver une image $\\hat{I}$ proche de l'image $I$ mais qui minimise la variation totale, c'est-à-dire la quantité de gradients dans l'image. Minimiser cette quantité n'est pas évident, l'algorithme le plus utilisé (dit Rudin-Osher-Fatemi) fait appel à des équations aux dérivées partielles. On ne détaillera donc pas son fonctionnement (mais sachez que cet algorithme a été une des pièces importantes pour l'acquisition de la première image d'un trou noir !)."
   ]
  },
  {
   "cell_type": "code",
   "execution_count": null,
   "metadata": {
    "slideshow": {
     "slide_type": "subslide"
    }
   },
   "outputs": [],
   "source": [
    "rocket_tv = restoration.denoise_tv_chambolle(rocket_gaussian, channel_axis=2)\n",
    "plt.imshow(rocket_tv) and plt.show()"
   ]
  },
  {
   "cell_type": "markdown",
   "metadata": {
    "slideshow": {
     "slide_type": "subslide"
    }
   },
   "source": [
    "En pratique, le *total variation denoising* à tendance à générer des images constantes par morceaux, c'est-à-dire des grandes zones homogènes et des ruptures de couleur très localisées. Cela peut ainsi donner un effet *cartoon* non désiré aux images."
   ]
  },
  {
   "cell_type": "markdown",
   "metadata": {
    "slideshow": {
     "slide_type": "slide"
    }
   },
   "source": [
    "## Amélioration de la netteté\n",
    "\n",
    "Le nom de ce filtre est trompeur car il permet plutôt d'améliorer le contraste entre les zones sombres et les zones claires d'une image. Il existe plusieurs noyaux de netteté similaires, par exemple :\n",
    "\n",
    "$$\\begin{bmatrix}\n",
    "\\ \\ 0 & -1 & \\ \\ 0 \\\\\n",
    "-1 & \\ \\ 5 & -1 \\\\\n",
    "\\ \\ 0 & -1 & \\ \\ 0\n",
    "\\end{bmatrix}$$\n",
    "\n",
    "ou encore \n",
    "\n",
    "$$\\begin{bmatrix}\n",
    "\\ \\ -1/9 & -1/9 & \\ \\ 1/9 \\\\\n",
    "-1/9 & \\ \\ +1 & -1/9 \\\\\n",
    "\\ \\ -1/9 & -1/9 & \\ \\ -1/9\n",
    "\\end{bmatrix}$$"
   ]
  },
  {
   "cell_type": "markdown",
   "metadata": {
    "slideshow": {
     "slide_type": "subslide"
    }
   },
   "source": [
    "Ce type de noyau de convolution correspond en réalité à un filtre passe-haut (c'est-à-dire qui retire les basses fréquences) :"
   ]
  },
  {
   "cell_type": "code",
   "execution_count": null,
   "metadata": {
    "slideshow": {
     "slide_type": "fragment"
    }
   },
   "outputs": [],
   "source": [
    "from skimage.transform import rescale\n",
    "img_small = rescale(img, scale=0.1)\n",
    "fig = plt.figure()\n",
    "fig.add_subplot(121)\n",
    "plt.imshow(img_small, cmap=\"gray\")\n",
    "sharpen = np.array([[0, -1, 0], [-1, 5, -1], [0, -1, 0]])\n",
    "sharpen = np.array([[-1/9, -1/9, -1/9], [-1/9, 1, -1/9], [-1/9, -1/9, -1/9]])\n",
    "filtered = convolve2d(img_small, sharpen, mode=\"same\")\n",
    "fig.add_subplot(122)\n",
    "plt.imshow(filtered, cmap=\"gray\") and plt.show()"
   ]
  },
  {
   "cell_type": "code",
   "execution_count": null,
   "metadata": {
    "slideshow": {
     "slide_type": "subslide"
    }
   },
   "outputs": [],
   "source": [
    "plot_image_fourier(img_small, log=True, figsize=(14, 8))"
   ]
  },
  {
   "cell_type": "code",
   "execution_count": null,
   "metadata": {
    "slideshow": {
     "slide_type": "subslide"
    }
   },
   "outputs": [],
   "source": [
    "plot_image_fourier(filtered, log=True, figsize=(14, 8))"
   ]
  },
  {
   "cell_type": "markdown",
   "metadata": {
    "slideshow": {
     "slide_type": "slide"
    }
   },
   "source": [
    "# Détection de contours"
   ]
  },
  {
   "cell_type": "markdown",
   "metadata": {
    "slideshow": {
     "slide_type": "-"
    }
   },
   "source": [
    "Une tâche classique en traitement d'images est la détection des contours. Par contour, on entend les zones où la luminosité de l'image change brutalement (i.e. les pixels correspondant à des discontinuités). Il s'agit d'une brique de base pour de nombreuses applications en détection et segmentation d'objets car les contours sont la première marche vers la délinéation.\n",
    "\n",
    "Avec ce que nous avons appris jusqu'ici, nous avons de quoi implémenter nos premiers algorithmes robustes pour la détection de contours."
   ]
  },
  {
   "cell_type": "markdown",
   "metadata": {
    "slideshow": {
     "slide_type": "slide"
    }
   },
   "source": [
    "## Par la méthode des gradients"
   ]
  },
  {
   "cell_type": "markdown",
   "metadata": {
    "slideshow": {
     "slide_type": "-"
    }
   },
   "source": [
    "Vous l'aurez peut-être déjà remarqué, les gradients 2D que nous avons calculé permettent déjà de détecter les zones de changement brusque d'intensité… et notamment les contours des objets. En effet, une variation importante d'intensité sur peu de pixels produit une valeur élevée du gradient. Comme les variations rapides de couleur sont souvent associées à une transition d'un objet à un autre, les gradients sont donc « presque » des détecteurs de contours.\n",
    "\n",
    "Voyons voir comment exploiter les gradients pour en faire des contours."
   ]
  },
  {
   "cell_type": "markdown",
   "metadata": {
    "slideshow": {
     "slide_type": "slide"
    }
   },
   "source": [
    "Commençons par calculer les gradients verticaux et horizontaux à l'aide d'un filtrage de Prewitt ou de Sobel. Précédemment nous avons utilisé `scipy` et une approche bas niveau pour ce faire mais nous pouvons gagner du temps et le faire directement avec `scikit-image`:"
   ]
  },
  {
   "cell_type": "code",
   "execution_count": null,
   "metadata": {
    "slideshow": {
     "slide_type": "-"
    }
   },
   "outputs": [],
   "source": [
    "from skimage import filters\n",
    "from skimage import io\n",
    "\n",
    "picsou = io.imread(\"images/picsou.jpg\", as_gray=True)\n",
    "gradient_h = filters.prewitt_h(picsou)\n",
    "gradient_v = filters.prewitt_v(picsou)\n",
    "gradient = np.sqrt(gradient_h**2 + gradient_v**2)\n",
    "\n",
    "fig = plt.figure(figsize=(18, 6))\n",
    "fig.add_subplot(141)\n",
    "plt.imshow(picsou, cmap=\"gray\")\n",
    "plt.title(\"Image\")\n",
    "fig.add_subplot(142)\n",
    "plt.imshow(gradient_h, cmap=\"gray\")\n",
    "plt.title(\"Gradients horizontaux\")\n",
    "fig.add_subplot(143)\n",
    "plt.imshow(gradient_v, cmap=\"gray\")\n",
    "plt.title(\"Gradients verticaux\")\n",
    "fig.add_subplot(144)\n",
    "plt.imshow(gradient, cmap=\"gray\")\n",
    "plt.title(\"Norme des gradients\")\n",
    "plt.show()"
   ]
  },
  {
   "cell_type": "markdown",
   "metadata": {
    "slideshow": {
     "slide_type": "subslide"
    }
   },
   "source": [
    "Ou directement :"
   ]
  },
  {
   "cell_type": "code",
   "execution_count": null,
   "metadata": {
    "slideshow": {
     "slide_type": "-"
    }
   },
   "outputs": [],
   "source": [
    "gradient = filters.sobel(picsou)\n",
    "fig = plt.figure(figsize=(8, 6))\n",
    "fig.add_subplot(121)\n",
    "plt.imshow(picsou, cmap=\"gray\")\n",
    "plt.title(\"Image\")\n",
    "fig.add_subplot(122)\n",
    "plt.imshow(gradient, cmap=\"gray\")\n",
    "plt.title(\"Norme des gradients\")\n",
    "plt.show()"
   ]
  },
  {
   "cell_type": "markdown",
   "metadata": {
    "slideshow": {
     "slide_type": "subslide"
    }
   },
   "source": [
    "**Question** : que se passe-t-il dans les zones avec beaucoup de détails (comme les sapins ou la tenue de Picsou) ?"
   ]
  },
  {
   "cell_type": "markdown",
   "metadata": {
    "slideshow": {
     "slide_type": "slide"
    }
   },
   "source": [
    "On peut ensuite seuiller sur la norme des gradients pour ne conserver que les zones de fortes transitions et donc les contours. Par exemple, ci-dessous on ne conserve que les gradients qui correspondent au 90e percentile (c'est-à-dire les 10% des gradients les plus intenses) :"
   ]
  },
  {
   "cell_type": "code",
   "execution_count": null,
   "metadata": {
    "slideshow": {
     "slide_type": "fragment"
    }
   },
   "outputs": [],
   "source": [
    "plt.imshow(gradient > np.percentile(gradient, 90), cmap=\"gray\") and plt.show()"
   ]
  },
  {
   "cell_type": "markdown",
   "metadata": {
    "slideshow": {
     "slide_type": "slide"
    }
   },
   "source": [
    "Pour se débarasser du problème, une astuce couramment employée consiste à flouter légèrement l'image avec un noyau gaussien. Le filtre gaussien étant passe-bas, ce dernier va retirer les hautes fréquences et donc lisser l'image. La détection de contours par la méthode de Sobel aura donc une réponse plus faible dans les zones bruitées, ce qui facilitera l'identification des « vraies » contours."
   ]
  },
  {
   "cell_type": "code",
   "execution_count": null,
   "metadata": {
    "slideshow": {
     "slide_type": "fragment"
    }
   },
   "outputs": [],
   "source": [
    "blurred = filters.gaussian(picsou, sigma=3)\n",
    "gradient = filters.sobel(blurred)\n",
    "fig = plt.figure(figsize=(16, 8))\n",
    "fig.add_subplot(131)\n",
    "plt.imshow(picsou, cmap=\"gray\")\n",
    "plt.title(\"Image\")\n",
    "fig.add_subplot(132)\n",
    "plt.imshow(gradient, cmap=\"gray\")\n",
    "plt.title(\"Norme des gradients\")\n",
    "fig.add_subplot(133)\n",
    "q = 90\n",
    "plt.title(f\"Seuillage au {q}e percentile\")\n",
    "plt.imshow(gradient > np.percentile(gradient, q), cmap=\"gray\") and plt.show()\n",
    "plt.show()"
   ]
  },
  {
   "cell_type": "markdown",
   "metadata": {
    "slideshow": {
     "slide_type": "slide"
    }
   },
   "source": [
    "## Filtre de Canny\n",
    "\n",
    "Le filtre de Canny est une version améliorée de la détection des contours par la méthode des gradients. Cet algorithme se déroule en quatre étapes :\n",
    "1. réduction du bruit par un lissage gaussien,\n",
    "2. calcul des normes et des angles des gradients,\n",
    "3. suppression des gradients non-maximaux,\n",
    "4. seuillage par hystérésis."
   ]
  },
  {
   "cell_type": "markdown",
   "metadata": {
    "slideshow": {
     "slide_type": "slide"
    }
   },
   "source": [
    "L'étape 1 est parfaitement identique à ce que nous avons réalisé précédemment (application d'un noyau gaussien de paramètre $\\sigma$ à définir).\n",
    "\n",
    "L'étape 2 est également analogue, les gradients étant calculés par l'application des opérateurs de Sobel horizontaux et verticaux.\n",
    "\n",
    "L'étape 3 est un peu plus complexe et consiste à amincir les contours obtenus de sorte à n'obtenir que des contours de 1 pixel d'épaisseur :\n",
    "- pour chaque point, on cherche la normale (perpendiculaire au à la tangente du contour, que l'on obtient à partir de l'angle du gradient),\n",
    "- on obtient 4 catégories de points : les contours horizontaux, verticaux, diagonaux et antidiagonaux,\n",
    "- pour chaque point, on regarde ses voisins par rapport à la normale : s'il y a un voisin où l'intensité du gradient est supérieure à celle du point considéré, on le retire.\n",
    "Cela permet finalement de ne considérer pour chaque section du contour que le pixel où le gradient est le plus fort.\n",
    "\n",
    "Enfin, l'étape 4 réalise un double seuillage :\n",
    "- tous les points de gradient supérieur à un seuil $s_{\\max}$ sont conservés.\n",
    "- tous les points de gradient inférieur à un seuil $s_{\\min}$ sont retirés\n",
    "- tous les points de gradient entre $s_{\\min}$ et $s_{\\max}$ sont retirés, sauf si un de ses 8 voisins fait partie d'un contour."
   ]
  },
  {
   "cell_type": "markdown",
   "metadata": {
    "slideshow": {
     "slide_type": "slide"
    }
   },
   "source": [
    "Le filtre de Canny est bien entendu disponible dans `skimage`. Il ne s'agit pas d'un filtre à proprement parler et plutôt d'un algorithme complet de détection de contours, il se trouve donc dans le sous-module `feature` (dont nous verrons d'autres fonctions dans le TP suivant) :"
   ]
  },
  {
   "cell_type": "code",
   "execution_count": null,
   "metadata": {
    "slideshow": {
     "slide_type": "fragment"
    }
   },
   "outputs": [],
   "source": [
    "from skimage.feature import canny\n",
    "\n",
    "edges = canny(picsou, sigma=3, low_threshold=0.1, high_threshold=0.2)\n",
    "\n",
    "fig = plt.figure(figsize=(16, 8))\n",
    "fig.add_subplot(121)\n",
    "plt.imshow(picsou, cmap=\"gray\")\n",
    "plt.title(\"Image\")\n",
    "fig.add_subplot(122)\n",
    "plt.imshow(edges, cmap=\"gray\")\n",
    "plt.title(\"Contours\")\n",
    "plt.show()"
   ]
  },
  {
   "cell_type": "markdown",
   "metadata": {
    "slideshow": {
     "slide_type": "skip"
    }
   },
   "source": [
    "N'hésitez pas à expérimenter avec les valeurs des seuils pour mieux comprendre leur impact sur la détection des contours."
   ]
  },
  {
   "attachments": {
    "image.png": {
     "image/png": "[encoded data removed]"
    }
   },
   "cell_type": "markdown",
   "metadata": {
    "slideshow": {
     "slide_type": "slide"
    }
   },
   "source": [
    "# Détection de lignes et transformée de Hough\n",
    "\n",
    "Une droite dans le plan est généralement écrite sous la forme :\n",
    "$y = ax + b$ avec $a$ la pente de la droite et $b$ l'ordonnée à l'origine de la droite. Mais on peut aussi considérer qu'une droite est donnée par :\n",
    "- sa distance à l'origine $\\rho$,\n",
    "- l'angle $\\theta$ défini comme sur la figure ci-dessous.\n",
    "\n",
    "![image.png](attachment:image.png)\n",
    "\n",
    "La droite en coordonnées cartésiennes correspond alors à l'équation :\n",
    "$$y = \\frac{\\rho}{\\sin\\theta} - \\frac{x}{\\tan \\theta}$$"
   ]
  },
  {
   "cell_type": "markdown",
   "metadata": {
    "slideshow": {
     "slide_type": "slide"
    }
   },
   "source": [
    "L'idée de la transformée de Hough est de construire un histogramme qui remplit une matrice $M\\times N$ (pour $M$ valeurs $\\rho$ et $N$ valeurs de $\\theta$). Pour chaque combinaison $\\rho', \\theta'$, on trace la droite correspondante dans l'image et on compte le nombre $m$ de pixels non-nuls qui se trouvent sur cette droite. On incrémente l'entrée $(\\rho', \\theta')$ de la matrice de cette valeur.\n",
    "\n",
    "Une fois l'histogramme complet rempli, les maxima locaux de la matrice correspondent aux droites les plus probables dans l'image.\n",
    "\n",
    "En pratique, on applique la transformée de Hough non pas sur l'image elle-même pas plutôt sur ses gradients ou même sur le résultat d'une détection de contours."
   ]
  },
  {
   "cell_type": "markdown",
   "metadata": {
    "slideshow": {
     "slide_type": "slide"
    }
   },
   "source": [
    "Voyons d'abord un exemple simple :"
   ]
  },
  {
   "cell_type": "code",
   "execution_count": null,
   "metadata": {
    "slideshow": {
     "slide_type": "fragment"
    }
   },
   "outputs": [],
   "source": [
    "from skimage.draw import line\n",
    "from skimage.transform import hough_line\n",
    "from skimage.transform import hough_line_peaks\n",
    "\n",
    "image = np.zeros((200, 200))\n",
    "idx = np.arange(25, 175)\n",
    "image[idx, idx] = 255\n",
    "image[line(45, 25, 25, 175)] = 255\n",
    "image[line(25, 135, 175, 155)] = 255\n",
    "\n",
    "plt.imshow(image, cmap=\"gray\") and plt.show()"
   ]
  },
  {
   "cell_type": "markdown",
   "metadata": {
    "slideshow": {
     "slide_type": "subslide"
    }
   },
   "source": [
    "Appliquons maintenant la transformée de Hough pour tous les angles entre 0° et 360° :"
   ]
  },
  {
   "cell_type": "code",
   "execution_count": null,
   "metadata": {
    "slideshow": {
     "slide_type": "fragment"
    }
   },
   "outputs": [],
   "source": [
    "angles = np.linspace(-np.pi / 2, np.pi / 2, 360, endpoint=False)\n",
    "h, theta, d = hough_line(image, theta=angles)"
   ]
  },
  {
   "cell_type": "markdown",
   "metadata": {
    "slideshow": {
     "slide_type": "subslide"
    }
   },
   "source": [
    "Le fonction `hough_line` du sous-module `transform` de `skimage` renvoie 3 valeurs :\n",
    "- la transformée de Hough à proprement parler (la matrice `h`),\n",
    "- les angles en radian `theta`,\n",
    "- `d` la liste des valeurs des distances $\\rho$.\n",
    "\n",
    "Nous pouvons donc afficher l'image correspondant à la transformée de Hough. Les points brillants correspondant à des intersections sont les candidats $(\\rho, \\theta)$ les plus vraisemblables pour une droite."
   ]
  },
  {
   "cell_type": "code",
   "execution_count": null,
   "metadata": {
    "slideshow": {
     "slide_type": "subslide"
    }
   },
   "outputs": [],
   "source": [
    "fig, axes = plt.subplots(1, 2, figsize=(12, 6))\n",
    "ax = axes.ravel()\n",
    "\n",
    "ax[0].imshow(image, cmap=\"gray\")\n",
    "ax[0].set_title('Image de départ')\n",
    "ax[0].set_axis_off()\n",
    "\n",
    "# Échelle log pour mieux voir\n",
    "ax[1].imshow(np.log(1 + h), cmap=\"gray\")\n",
    "ax[1].set_title('Transformée de Hough')\n",
    "ax[1].set_xlabel('Angles (degrés)')\n",
    "ax[1].set_ylabel('Distance (pixels)')\n",
    "ax[1].axis('image')\n",
    "\n",
    "plt.show()"
   ]
  },
  {
   "cell_type": "markdown",
   "metadata": {
    "slideshow": {
     "slide_type": "subslide"
    }
   },
   "source": [
    "La fonction `hough_line_peaks` permet d'extraire automatiquement les maxima locaux de la transformée de Hough et donc d'obtenir les coordonnées $\\rho$ et $\\theta$ des droits candidates :"
   ]
  },
  {
   "cell_type": "code",
   "execution_count": null,
   "metadata": {
    "slideshow": {
     "slide_type": "fragment"
    }
   },
   "outputs": [],
   "source": [
    "plt.imshow(image, cmap=\"gray\")\n",
    "plt.ylim((image.shape[0], 0))\n",
    "plt.axis(\"off\")\n",
    "plt.title(\"Lignes détectées\")\n",
    "\n",
    "for _, angle, dist in zip(*hough_line_peaks(h, theta, d)):\n",
    "    (x0, y0) = dist * np.array([np.cos(angle), np.sin(angle)])\n",
    "    plt.axline((x0, y0), slope=np.tan(angle + np.pi/2))\n",
    "\n",
    "plt.show()"
   ]
  },
  {
   "cell_type": "markdown",
   "metadata": {
    "slideshow": {
     "slide_type": "subslide"
    }
   },
   "source": [
    "Comme mentionné précédemment, en général on évite d'appliquer la transformée de Hough directement sur une image mais on s'en sert pour extraire les lignes principales après une détection de contours. En reprenant l'image de couverture des aventures de Picsou, on peut appliquer la transformée de Hough sur le résultat du filtre de Canny :"
   ]
  },
  {
   "cell_type": "code",
   "execution_count": null,
   "metadata": {
    "slideshow": {
     "slide_type": "fragment"
    }
   },
   "outputs": [],
   "source": [
    "angles = np.linspace(-np.pi / 2, np.pi / 2, 360, endpoint=False)\n",
    "h, theta, d = hough_line(edges, theta=angles)"
   ]
  },
  {
   "cell_type": "markdown",
   "metadata": {
    "slideshow": {
     "slide_type": "subslide"
    }
   },
   "source": [
    "Et afficher les lignes détectées :"
   ]
  },
  {
   "cell_type": "code",
   "execution_count": null,
   "metadata": {
    "slideshow": {
     "slide_type": "fragment"
    }
   },
   "outputs": [],
   "source": [
    "plt.imshow(edges, cmap=\"gray\")\n",
    "plt.ylim((edges.shape[0], 0))\n",
    "plt.axis(\"off\")\n",
    "plt.title(\"Lignes détectées\")\n",
    "\n",
    "for _, angle, dist in zip(*hough_line_peaks(h, theta, d)):\n",
    "    (x0, y0) = dist * np.array([np.cos(angle), np.sin(angle)])\n",
    "    plt.axline((x0, y0), slope=np.tan(angle + np.pi/2))\n",
    "\n",
    "plt.show()"
   ]
  },
  {
   "cell_type": "markdown",
   "metadata": {
    "slideshow": {
     "slide_type": "slide"
    }
   },
   "source": [
    "## Transformée de Hough circulaire\n",
    "\n",
    "La transformée de Hough ne s'applique pas uniquement à la détection de droites. En réalité, elle peut être utilisée pour estimer la présence de n'importe quelle forme géométrique paramétrique. Il existe notamment des variantes pour les cercles et les ellipses.\n",
    "\n",
    "Inspirez-vous de l'exemple de la [documentation](https://scikit-image.org/docs/dev/auto_examples/edges/plot_circular_elliptical_hough_transform.html) et détectez des cercles (ou des ellipses) dans l'image de votre choix."
   ]
  },
  {
   "cell_type": "markdown",
   "metadata": {
    "slideshow": {
     "slide_type": "subslide"
    }
   },
   "source": [
    "### À vous de jouer !"
   ]
  },
  {
   "cell_type": "code",
   "execution_count": null,
   "metadata": {
    "slideshow": {
     "slide_type": "-"
    }
   },
   "outputs": [],
   "source": []
  }
 ],
 "metadata": {
  "celltoolbar": "Slideshow",
  "kernelspec": {
   "display_name": "Python 3",
   "language": "python",
   "name": "python3"
  },
  "language_info": {
   "codemirror_mode": {
    "name": "ipython",
    "version": 3
   },
   "file_extension": ".py",
   "mimetype": "text/x-python",
   "name": "python",
   "nbconvert_exporter": "python",
   "pygments_lexer": "ipython3",
   "version": "3.9.10"
  }
 },
 "nbformat": 4,
 "nbformat_minor": 4
}
