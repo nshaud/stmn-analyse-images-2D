{
 "cells": [
  {
   "cell_type": "markdown",
   "metadata": {},
   "source": [
    "Cette dernière séance s'intéresse aux possibilités de reconnaître des objets dans une image ou de trouver des images similaires à une image requête. Comme pour l'alignement d'images à partir de points d'intérêt, nous allons pour ce faire utiliser des **descripteurs**. Ces descripteurs ne porteront toutefois pas sur un point d'intérêt précis mais sur l'image entière."
   ]
  },
  {
   "cell_type": "markdown",
   "metadata": {},
   "source": [
    "# Template matching"
   ]
  },
  {
   "cell_type": "markdown",
   "metadata": {},
   "source": [
    "Le *template matching* consiste à localiser un objet, décrit par un modèle (*template*) dans une image. En pratique, on aura donc l'image d'un modèle $T$ de dimensions $w \\times h$ et une image $I$ de dimensions $W \\times H$ dans laquelle effectuer la recherche.\n",
    "\n",
    "La méthode classique consiste à chercher la position $(x^*,y^*)$ idéale dans l'image qui minimise la distance entre la fenêtre de taille $w \\times h$ centrée en $(x,y)$ et le *template*:\n",
    "\n",
    "$$x^*, y^* = \\arg\\min_{x,y} E(x,y) = \\arg\\min \\sum_{i=1}^w \\sum_{j=1}^h \\left( I[x+i,y+j] - T[i, j] \\right)^2$$"
   ]
  },
  {
   "cell_type": "markdown",
   "metadata": {},
   "source": [
    "Cette recherche est équivalente à chercher la position $(x^*,y^*)$ qui maximise la **corrélation croisée** entre la fenêtre considérée et le *template*:\n",
    "\n",
    "$$x^*, y^* = \\arg\\max{x,y} \\sum_{i=1}^w \\sum_{j=1}^h I[x+i,y+j] \\cdot T[i,j] = \\arg\\max_{x,y} F^{(x,y)} \\star T$$\n",
    "\n",
    "où $F^{(x,y)}$ est la fenêtre centrée en $(x,y)$."
   ]
  },
  {
   "cell_type": "markdown",
   "metadata": {},
   "source": [
    "Pour trouver la position la plus probable du *template* dans l'image, on peut donc procéder à l'aide de l'algorithme suivant :\n",
    "1. calculer la corrélation croisée pour toutes les positions $(x,y)$\n",
    "2. renvoyer les valeurs $(x^*, y^*)$ pour lesquelles la corrélation est maximale"
   ]
  },
  {
   "cell_type": "markdown",
   "metadata": {},
   "source": [
    "## À la main"
   ]
  },
  {
   "cell_type": "markdown",
   "metadata": {},
   "source": [
    "Mettons cette logique en application sur un exemple. Pour simplifier les choses, nous allons travailler en niveaux de gris mais on aurait pu tout aussi bien définir la corrélation croisée en sommant la corrélation pour les canaux rouge, bleu et vert."
   ]
  },
  {
   "cell_type": "markdown",
   "metadata": {},
   "source": [
    "Les images avec lesquelles nous allons faire nos tests sont des captures d'écran de Pokémon Rouge, sorti en France en 1999 sur Game Boy ."
   ]
  },
  {
   "cell_type": "code",
   "execution_count": null,
   "metadata": {},
   "outputs": [],
   "source": [
    "import matplotlib.pyplot as plt\n",
    "from skimage import io\n",
    "\n",
    "template = io.imread(\"pokeball.png\", as_gray=True)\n",
    "image = io.imread(\"pokemon_safari.jpg\", as_gray=True)\n",
    "\n",
    "fig, axes = plt.subplots(nrows=1, ncols=2, figsize=(12, 6), gridspec_kw={'width_ratios': [2.5, 1]})\n",
    "axes[0].imshow(image, cmap=\"gray\")\n",
    "axes[0].set_title(\"Image où chercher l'objet\")\n",
    "axes[1].imshow(template, cmap=\"gray\")\n",
    "axes[1].set_title(\"Template\")\n",
    "plt.show()"
   ]
  },
  {
   "cell_type": "markdown",
   "metadata": {},
   "source": [
    "Remarquons que les dimensions du *template* correspondent à la dimension de l'objet dans l'image."
   ]
  },
  {
   "cell_type": "markdown",
   "metadata": {},
   "source": [
    "Nous pourrions calculer la corrélation manuellement en utilisant la formule précédemment détaillée mais ce n'est pas particulièrement intéressant. Utilisons plutôt SciPy pour le faire grâce à la fonction `scipy.signal.correlate2d`. Celle-ci calcule la corrélation croisée entre deux matrices 2D (par exemple, des images en niveaux de gris)."
   ]
  },
  {
   "cell_type": "code",
   "execution_count": null,
   "metadata": {},
   "outputs": [],
   "source": [
    "from scipy.signal import correlate2d\n",
    "\n",
    "correlation_map = correlate2d(image, template, mode=\"same\")\n",
    "# Affichons la carte de corrélation\n",
    "fig = plt.figure(figsize=(10, 8))\n",
    "plt.imshow(correlation_map, cmap=\"magma\")\n",
    "plt.colorbar(shrink=0.5)\n",
    "plt.title(\"Carte de corrélation croisée\")\n",
    "plt.show()"
   ]
  },
  {
   "cell_type": "markdown",
   "metadata": {},
   "source": [
    "Oups. Le résultat obtenu n'est pas tout à fait ce que l'on escomptait. En effet, dans la corrélation croisée, les pixels brillants sont très favorisés. Toutes les zones de terrain blanc apparaissent donc avec une forte corrélation, plus forte même que la position réelle de l'objet.\n",
    "\n",
    "L'astuce consiste donc à ne pas considérer le template tel quel mais à lui retirer sa valeur moyenne, de sorte à débiaiser les résultats :"
   ]
  },
  {
   "cell_type": "code",
   "execution_count": null,
   "metadata": {},
   "outputs": [],
   "source": [
    "template -= template.mean()"
   ]
  },
  {
   "cell_type": "code",
   "execution_count": null,
   "metadata": {},
   "outputs": [],
   "source": [
    "correlation_map = correlate2d(image, template, mode=\"same\")\n",
    "# Affichons la carte de corrélation\n",
    "fig = plt.figure(figsize=(10, 8))\n",
    "plt.imshow(correlation_map, cmap=\"magma\")\n",
    "plt.colorbar(shrink=0.5)\n",
    "plt.title(\"Carte de corrélation croisée\")\n",
    "plt.show()"
   ]
  },
  {
   "cell_type": "markdown",
   "metadata": {},
   "source": [
    "C'est nettement mieux ! On peut maintenant utiliser un peu de magie avec NumPy pour extraire les coordonnées du maximum (le pixel le plus brillant dans la carte de corrélation croisée) :"
   ]
  },
  {
   "cell_type": "code",
   "execution_count": null,
   "metadata": {},
   "outputs": [],
   "source": [
    "import numpy as np\n",
    "\n",
    "# y, x sont inversés entre NumPy et Matplotlib\n",
    "y_max, x_max = np.argwhere(correlation_map == correlation_map.max())[0]\n",
    "\n",
    "# On affiche la carte avec le point correspondant au maximum\n",
    "fig, axes = plt.subplots(ncols=2, nrows=1, figsize=(10, 8))\n",
    "axes[0].imshow(correlation_map, cmap=\"magma\")\n",
    "axes[0].plot(x_max, y_max, \"w*\", markersize=10)\n",
    "axes[0].set_title(\"Carte de corrélation croisée\")\n",
    "\n",
    "axes[1].imshow(image, cmap=\"gray\")\n",
    "w, h = template.shape\n",
    "rect = plt.Rectangle((x_max - w//2, y_max - h//2), w, h, edgecolor=\"r\", facecolor=\"none\")\n",
    "axes[1].add_patch(rect)\n",
    "axes[1].set_title(\"Détection dans l'image\")\n",
    "plt.show()"
   ]
  },
  {
   "cell_type": "markdown",
   "metadata": {},
   "source": [
    "C'est nettement mieux ! Le maximum correspond maintenant à la bonne position de l'objet dans la carte.\n",
    "\n",
    "À noter que cette technique est plutôt robuste au bruit et aux imperfections. On peut aussi bien l'utiliser sur une image dégradée qu'avec un template approximatif. Appliquons par exemple un bruit gaussien sur l'image :"
   ]
  },
  {
   "cell_type": "code",
   "execution_count": null,
   "metadata": {},
   "outputs": [],
   "source": [
    "from skimage.util import random_noise\n",
    "\n",
    "noisy = random_noise(image, mode=\"gaussian\", var=0.5)\n",
    "\n",
    "correlation_map = correlate2d(noisy, template, mode=\"same\")\n",
    "y_max, x_max = np.argwhere(correlation_map == correlation_map.max())[0]\n",
    "\n",
    "fig, axes = plt.subplots(ncols=2, nrows=1, figsize=(16, 8))\n",
    "axes[0].imshow(correlation_map, cmap=\"magma\")\n",
    "axes[0].plot(x_max, y_max, \"w*\", markersize=10)\n",
    "axes[0].set_title(\"Carte de corrélation croisée\")\n",
    "\n",
    "axes[1].imshow(noisy, cmap=\"gray\")\n",
    "w, h = template.shape\n",
    "rect = plt.Rectangle((x_max - w//2, y_max - h//2), w, h, edgecolor=\"r\", facecolor=\"none\")\n",
    "axes[1].add_patch(rect)\n",
    "axes[1].set_title(\"Détection dans l'image\")\n",
    "plt.show()"
   ]
  },
  {
   "cell_type": "markdown",
   "metadata": {},
   "source": [
    "### Détections multiples"
   ]
  },
  {
   "cell_type": "markdown",
   "metadata": {},
   "source": [
    "L'algorithme précédent fonctionne bien mais le fait de ne considérer que la valeur maximale fait que l'on peut potentiellement rater la présence de plusieurs objets correspondants au *template*. Prenons l'image suivante :"
   ]
  },
  {
   "cell_type": "code",
   "execution_count": null,
   "metadata": {},
   "outputs": [],
   "source": [
    "image2 = io.imread(\"pokemon_choice.png\", as_gray=True)\n",
    "plt.imshow(image2, cmap=\"gray\") and plt.show()"
   ]
  },
  {
   "cell_type": "markdown",
   "metadata": {},
   "source": [
    "Que faire dans cette situation ? L'objet correspondant au *template* s'y trouve à trois reprises. On aimerait donc pouvoir détecter ces trois occurrences mais rien ne dit que la corrélation sera strictement égale au maximum pour les trois en simultanée. Une solution est donc de ne pas considérer la corrélation maximale mais de considérer les corrélations « presque maximales », par exemple entre 95% et 100% de la valeur maximale."
   ]
  },
  {
   "cell_type": "markdown",
   "metadata": {},
   "source": [
    "On remarque par ailleurs que les objets sont plus petits dans cette image, il faut donc redimensionner le *template* (on verra plus tard comment s'en tirer quand on ne connaît pas la taille des objets que l'on cherche) :"
   ]
  },
  {
   "cell_type": "code",
   "execution_count": null,
   "metadata": {},
   "outputs": [],
   "source": [
    "from skimage.transform import rescale\n",
    "\n",
    "small_template = rescale(template, scale=0.5)\n",
    "w, h = small_template.shape\n",
    "\n",
    "correlation_map = correlate2d(image2, small_template, mode=\"same\")\n",
    "tolerance = 0.95\n",
    "\n",
    "fig, axes = plt.subplots(nrows=1, ncols=2, figsize=(16, 8))\n",
    "axes[0].imshow(correlation_map)\n",
    "axes[1].imshow(image2, cmap=\"gray\")\n",
    "for y_max, x_max in np.argwhere(correlation_map > tolerance * correlation_map.max()):\n",
    "    axes[0].plot(x_max, y_max, \"w*\", markersize=12)\n",
    "    rect = plt.Rectangle((x_max - w//2, y_max - h//2), w, h, edgecolor=\"r\", facecolor=\"none\")\n",
    "    axes[1].add_patch(rect)\n",
    "\n",
    "axes[0].set_title(\"Corrélations croisées\")\n",
    "axes[1].set_title(\"Détection dans l'image\")\n",
    "plt.show()"
   ]
  },
  {
   "cell_type": "markdown",
   "metadata": {},
   "source": [
    "Et le tour est joué ! Essayez d'abaisser ou d'augmenter le seuil de tolérance pour voir l'impact que cela peut avoir sur les détections dans l'image."
   ]
  },
  {
   "cell_type": "markdown",
   "metadata": {},
   "source": [
    "### Détections à plusieurs échelles"
   ]
  },
  {
   "cell_type": "markdown",
   "metadata": {},
   "source": [
    "Comme nous venons de le voir, une limite du *template matching* est que l'on a besoin de connaître au préalable la taille de l'objet dans l'image pour savoir à quelle échelle redimensionner notre *template*. C'est assez gênant car en général, on ne peut pas vraiment faire d'hypothèse : si l'objet est plus loin de l'appareil photo, il apparaîtra de la même façon mais plus petit.\n",
    "\n",
    "Une solution de contournement consiste à tester le *template* à plusieurs échelles. Pour ce faire, une possibilité est de redimensionner le *template* pour réduire sa taille :"
   ]
  },
  {
   "cell_type": "code",
   "execution_count": null,
   "metadata": {},
   "outputs": [],
   "source": [
    "# les échelles de \"zoom\" à tester : 25%, 50%, 75% et 100%\n",
    "scales = [0.25, 0.5, 0.75, 1.0]\n",
    "tolerance = 0.95\n",
    "\n",
    "for scale in scales:\n",
    "    scaled_template = rescale(template, scale)\n",
    "    correlation_map = correlate2d(image2, scaled_template, mode=\"same\")\n",
    "    plt.imshow(correlation_map)\n",
    "    for y_max, x_max in np.argwhere(correlation_map > tolerance * correlation_map.max()):\n",
    "        plt.plot(x_max, y_max, \"w*\", markersize=12)\n",
    "        plt.title(f\"Échelle = {scale}, corrélation max. = {correlation_map.max():.2f}\")\n",
    "    plt.show()"
   ]
  },
  {
   "cell_type": "markdown",
   "metadata": {},
   "source": [
    "*Note* : Pour agrandir le *template*, on va plutôt faire l'opposé et réduire la taille de l'image (la corrélation croisée est plus rapide dans ce sens)."
   ]
  },
  {
   "cell_type": "markdown",
   "metadata": {},
   "source": [
    "Maintenant que l'on a effectué le *template matching* à plusieurs échelles, on se retrouve avec plein de détections sur les bras. Mais comment peut-on décider quelle échelle est la plus pertinente pour nous ?\n",
    "\n",
    "**Question** : comment évoluent les corrélations maximales quand on augmente les dimensions du *template* ? Pourquoi ?"
   ]
  },
  {
   "cell_type": "markdown",
   "metadata": {},
   "source": [
    "Une solution à ce problème consiste à *normaliser* la corrélation croisée en divisant par la taille du *template*:\n",
    "    \n",
    "$$x^*, y^* = \\arg\\max{x,y} \\frac{1}{wh} \\sum_{i=1}^w \\sum_{j=1}^h I[x+i,y+j] \\cdot T[i,j] = \\arg\\max_{x,y} \\frac{1}{wh} F^{(x,y)} \\star T$$\n",
    "    \n",
    "En Python, cela donne :"
   ]
  },
  {
   "cell_type": "code",
   "execution_count": null,
   "metadata": {},
   "outputs": [],
   "source": [
    "# les échelles de \"zoom\" à tester : 25%, 50%, 75% et 100%\n",
    "scales = [0.25, 0.5, 0.75, 1.0]\n",
    "tolerance = 0.95\n",
    "\n",
    "for scale in scales:\n",
    "    scaled_template = rescale(template, scale)\n",
    "    correlation_map = correlate2d(image2, scaled_template, mode=\"same\")\n",
    "    # Normalisation ->\n",
    "    correlation_map /= scaled_template.size\n",
    "    plt.imshow(correlation_map)\n",
    "    for y_max, x_max in np.argwhere(correlation_map > tolerance * correlation_map.max()):\n",
    "        plt.plot(x_max, y_max, \"w*\", markersize=12)\n",
    "        plt.title(f\"Échelle = {scale}, corrélation max. = {correlation_map.max():.2f}\")\n",
    "    plt.show()"
   ]
  },
  {
   "cell_type": "markdown",
   "metadata": {},
   "source": [
    "On peut alors considérer les détections avec les corrélation croisées les plus hautes pour toutes les échelles. Cela permet même de détecter des objets de différentes taille dans une seule image."
   ]
  },
  {
   "cell_type": "markdown",
   "metadata": {},
   "source": [
    "## Avec scikit-image"
   ]
  },
  {
   "cell_type": "markdown",
   "metadata": {},
   "source": [
    "Vous avez l'habitude, `scikit-image` fait tout le boulot pour nous. Il suffit d'aller chercher la fonction appropriée dans le bon sous-module. En l'occurrence, il s'agit de `skimage.feature.match_template`, qui implémente une version efficace de l'algorithme présenté ci-dessus :"
   ]
  },
  {
   "cell_type": "code",
   "execution_count": null,
   "metadata": {},
   "outputs": [],
   "source": [
    "from skimage.feature import match_template\n",
    "\n",
    "result = match_template(image, template)\n",
    "y, x = np.unravel_index(np.argmax(result), result.shape)\n",
    "\n",
    "fig, ax = plt.subplots(ncols=3, nrows=1, figsize=(16, 6), gridspec_kw={\"width_ratios\": [1, 3, 3]})\n",
    "\n",
    "ax[0].imshow(template, cmap=plt.cm.gray)\n",
    "ax[0].set_axis_off()\n",
    "ax[0].set_title('Template')\n",
    "\n",
    "ax[1].imshow(image, cmap=plt.cm.gray)\n",
    "ax[1].set_axis_off()\n",
    "ax[1].set_title('Image')\n",
    "h, w = template.shape\n",
    "rect = plt.Rectangle((x, y), w, h, edgecolor='r', facecolor='none')\n",
    "ax[1].add_patch(rect)\n",
    "\n",
    "ax[2].imshow(result)\n",
    "ax[2].set_axis_off()\n",
    "ax[2].set_title('Résultat de match_template')\n",
    "ax[2].autoscale(False)\n",
    "ax[2].plot(x, y, 'w*', markersize=15)\n",
    "\n",
    "plt.show()"
   ]
  },
  {
   "cell_type": "markdown",
   "metadata": {},
   "source": [
    "Cet algorithme fonctionne bien entendu de la même façon sur des images en couleur :"
   ]
  },
  {
   "cell_type": "code",
   "execution_count": null,
   "metadata": {},
   "outputs": [],
   "source": [
    "airport = io.imread(\"orly_gmaps.jpg\")\n",
    "plane = io.imread(\"avion.jpg\")\n",
    "\n",
    "result = match_template(airport, plane)\n",
    "h, w, _ = plane.shape\n",
    "tolerance = 0.7\n",
    "\n",
    "fig, ax = plt.subplots(ncols=3, nrows=1, figsize=(16, 6), gridspec_kw={\"width_ratios\": [1, 3, 3]})\n",
    "\n",
    "ax[0].imshow(plane, cmap=plt.cm.gray)\n",
    "ax[0].set_axis_off()\n",
    "ax[0].seauxt_title('Template')\n",
    "\n",
    "ax[1].imshow(airport, cmap=plt.cm.gray)\n",
    "ax[1].set_axis_off()\n",
    "ax[1].set_title('Image')\n",
    "\n",
    "ax[2].imshow(result)\n",
    "ax[2].set_axis_off()\n",
    "ax[2].set_title('Résultat de match_template')\n",
    "ax[2].autoscale(False)\n",
    "\n",
    "for y, x, _ in np.argwhere(result > tolerance * result.max()):\n",
    "    rect = plt.Rectangle((x, y), w, h, edgecolor='r', facecolor='none')\n",
    "    ax[1].add_patch(rect)\n",
    "    ax[2].plot(x, y, 'w*', markersize=15)\n",
    "\n",
    "plt.show()"
   ]
  },
  {
   "cell_type": "markdown",
   "metadata": {},
   "source": [
    "On voit tout de même apparaître quelques limitations du *template matching*:\n",
    "- pas d'invariance à la rotation (il faudrait tester le *template* selon différentes orientations et pour espérer détecter des avions positionnés différemment),\n",
    "- détections multiples d'un même objet (un algorithme de *non-maximal suppression* (NMS) peut résoudre ce problème),\n",
    "- sensible à des variations légères d'apparence."
   ]
  },
  {
   "cell_type": "markdown",
   "metadata": {},
   "source": [
    "# Descripteurs d'image"
   ]
  },
  {
   "cell_type": "markdown",
   "metadata": {},
   "source": [
    "## Histogrammes de couleur\n",
    "\n",
    "Du point de vue perceptuel, une image est avant tout caractérisée par les couleurs qui la composent. Une façon de « résumer » rapidement le contenu d'une image est donc de lister les couleurs qui y apparaissent et le nombre de fois que chaque couleur apparaît dans un pixel. Ces valeurs sont représentées par les **histogrammes de couleur**."
   ]
  },
  {
   "cell_type": "code",
   "execution_count": null,
   "metadata": {},
   "outputs": [],
   "source": [
    "import skimage\n",
    "from skimage.exposure import histogram\n",
    "\n",
    "cat = skimage.data.cat()\n",
    "\n",
    "fig = plt.figure(figsize=(12, 6))\n",
    "fig.add_subplot(121)\n",
    "plt.imshow(cat)\n",
    "fig.add_subplot(122)\n",
    "for idx, col in enumerate([\"Rouge\", \"Vert\", \"Bleu\"]):\n",
    "    hist, hist_centers = histogram(cat[:,:,idx], normalize=True)\n",
    "    plt.bar(hist_centers, hist, alpha=0.5, label=col)\n",
    "plt.legend()\n",
    "plt.show()"
   ]
  },
  {
   "cell_type": "markdown",
   "metadata": {},
   "source": [
    "L'image est ainsi décrite par la combinaison des 3 histogrammes :\n",
    "$$\\mathbf{v} = h_\\text{rouge}::h_\\text{vert}::h_\\text{bleu}$$\n",
    "\n",
    "où $::$ désigne la concaténation de vecteurs. Pour des histogrammes complets à 256 couleurs, cela réduit donc une image de dimensions $W \\times H$ à un vecteur de $3 \\times 256 = 768$ valeurs. Cela permet ainsi de faire une recherche d'images : pour une image requête $I_r$, je peux trouver l'image de ma base de données $\\{I_1, I_2, \\ldots, I_n\\}$ qui a le profil colorimétrique le plus proche. Voyons un exemple sur une recherche de logo :"
   ]
  },
  {
   "cell_type": "code",
   "execution_count": null,
   "metadata": {},
   "outputs": [],
   "source": [
    "database = [io.imread(f\"wow{idx}.jpg\") for idx in range (5)]\n",
    "print(\"Base de données :\")\n",
    "fig, axes = plt.subplots(nrows=1, ncols=len(database), figsize=(16, 6))\n",
    "for img, ax in zip(database, axes):\n",
    "    ax.imshow(img)\n",
    "    ax.axis(\"off\")\n",
    "plt.show()\n",
    "\n",
    "query = io.imread(\"wow_petit.jpg\")\n",
    "plt.imshow(query)\n",
    "plt.title(\"Image requête\")\n",
    "plt.axis(\"off\")\n",
    "plt.show()"
   ]
  },
  {
   "cell_type": "markdown",
   "metadata": {},
   "source": [
    "À l'aide de la fonction suivante, on peut calculer les histogrammes pour toutes les images de la base de données ainsi que pour l'image requête : "
   ]
  },
  {
   "cell_type": "code",
   "execution_count": null,
   "metadata": {},
   "outputs": [],
   "source": [
    "def color_histogram(image):\n",
    "    hists = [histogram(image[:,:,idx], normalize=True)[0][1:-1] for idx in range(3)]\n",
    "    return np.concatenate(hists)\n",
    "                       \n",
    "db_hists = [color_histogram(img) for img in database]\n",
    "query_hist = color_histogram(query)"
   ]
  },
  {
   "cell_type": "markdown",
   "metadata": {},
   "source": [
    "On calcule les scores (ici on utilise la distance euclidienne mais pour les histogrammes, il serait préférable d'utiliser la [divergence de Kullback-Leibler](https://fr.wikipedia.org/wiki/Divergence_de_Kullback-Leibler) qui est nettement plus adaptée) :"
   ]
  },
  {
   "cell_type": "code",
   "execution_count": null,
   "metadata": {},
   "outputs": [],
   "source": [
    "scores = [np.linalg.norm(db_hist - query_hist) for db_hist in db_hists]"
   ]
  },
  {
   "cell_type": "markdown",
   "metadata": {},
   "source": [
    "Il ne reste plus qu'à trouver et afficher l'image pour laquelle le score est le plus faible :"
   ]
  },
  {
   "cell_type": "code",
   "execution_count": null,
   "metadata": {},
   "outputs": [],
   "source": [
    "# on trouve l'image pour laquelle le score est le minimum\n",
    "closest_idx = np.argmin(scores)\n",
    "\n",
    "fig, axes = plt.subplots(nrows=1, ncols=len(database), figsize=(16, 6))\n",
    "for img, ax, score in zip(database, axes, scores):\n",
    "    ax.imshow(img)\n",
    "    ax.set_title(f\"Distance: {score:.3f}\")\n",
    "    ax.axis(\"off\")\n",
    "plt.show()\n",
    "\n",
    "plt.imshow(database[closest_idx])\n",
    "plt.title(\"Image la plus proche de la requête\")\n",
    "plt.axis(\"off\")\n",
    "plt.show()"
   ]
  },
  {
   "cell_type": "markdown",
   "metadata": {},
   "source": [
    "L'inconvénient de ce descripteur, c'est qu'il ignore complètement la structure de l'image. On peut mélanger les pixels et obtenir exactement le même histogramme. Pour l'image de Chelsea le chat, cela donne :"
   ]
  },
  {
   "cell_type": "code",
   "execution_count": null,
   "metadata": {},
   "outputs": [],
   "source": [
    "shuffle = np.reshape(cat, (-1, cat.shape[2]))\n",
    "np.random.shuffle(shuffle)\n",
    "shuffle = np.reshape(shuffle, cat.shape)\n",
    "\n",
    "fig = plt.figure(figsize=(12, 6))\n",
    "fig.add_subplot(121)\n",
    "plt.imshow(shuffle)\n",
    "fig.add_subplot(122)\n",
    "for idx, col in enumerate([\"Rouge\", \"Vert\", \"Bleu\"]):\n",
    "    hist, hist_centers = histogram(shuffle[:,:,idx])\n",
    "    plt.bar(hist_centers, hist, alpha=0.5, label=col)\n",
    "plt.legend()\n",
    "plt.show()"
   ]
  },
  {
   "cell_type": "markdown",
   "metadata": {},
   "source": [
    "Ce qui est exactement le même histogramme que précédemment. Autrement dit, ce descripteur ne comporte que de l'information concernant couleur mais pas du tout concernant la structure spatiale de l'image. On va donc s'intéresser à deux autres types de descripteurs qui prennent en compte l'organisation d'une image, c'est-à-dire :\n",
    "- la texture (les structures haute fréquence),\n",
    "- et la forme (les structures basse fréquence)."
   ]
  },
  {
   "cell_type": "markdown",
   "metadata": {},
   "source": [
    "*Note* : les histogrammes de couleur que l'on a calculé ne sont pas tout fait des histogrammes de couleur 3D. Ce sont plutôt des triples histogrammes d'intensité RVB. Le problème fondamental ne change pas."
   ]
  },
  {
   "attachments": {
    "image-3.png": {
     "image/png": "[encoded data removed]"
    },
    "image.png": {
     "image/png": "[encoded data removed]"
    }
   },
   "cell_type": "markdown",
   "metadata": {},
   "source": [
    "## Descripteurs de texture\n",
    "\n",
    "### Motifs binaires locaux\n",
    "\n",
    "Les motifs binaires locaux sont un type de caractéristiques d'images utilisés notamment pour la reconnaissance de texture (mais pas que). L'idée est de comparer l'intensité d'un pixel avec celle de ses voisins.\n",
    "\n",
    "![image.png](attachment:image.png)\n",
    "\n",
    "\n",
    "![image-3.png](attachment:image-3.png)"
   ]
  },
  {
   "cell_type": "code",
   "execution_count": null,
   "metadata": {},
   "outputs": [],
   "source": [
    "from skimage.feature import local_binary_pattern\n",
    "from skimage.color import label2rgb\n",
    "\n",
    "radius = 3\n",
    "n_points = 8 * radius\n",
    "\n",
    "\n",
    "def overlay_labels(image, lbp, labels):\n",
    "    mask = np.logical_or.reduce([lbp == each for each in labels])\n",
    "    return label2rgb(mask, image=image, bg_label=0, alpha=0.5)\n",
    "\n",
    "\n",
    "def highlight_bars(bars, indexes):\n",
    "    for i in indexes:\n",
    "        bars[i].set_facecolor('r')\n",
    "\n",
    "\n",
    "image = skimage.data.brick()\n",
    "lbp = local_binary_pattern(image, n_points, radius)\n",
    "\n",
    "\n",
    "def hist(ax, lbp):\n",
    "    n_bins = int(lbp.max() + 1)\n",
    "    return ax.hist(lbp.ravel(), density=True, bins=n_bins, range=(0, n_bins),\n",
    "                   facecolor='0.5')\n",
    "\n",
    "\n",
    "# plot histograms of LBP of textures\n",
    "fig, (ax_img, ax_hist) = plt.subplots(nrows=2, ncols=3, figsize=(9, 6))\n",
    "plt.gray()\n",
    "\n",
    "titles = ('edge', 'flat', 'corner')\n",
    "w = width = radius - 1\n",
    "edge_labels = range(n_points // 2 - w, n_points // 2 + w + 1)\n",
    "flat_labels = list(range(0, w + 1)) + list(range(n_points - w, n_points + 2))\n",
    "i_14 = n_points // 4            # 1/4th of the histogram\n",
    "i_34 = 3 * (n_points // 4)      # 3/4th of the histogram\n",
    "corner_labels = (list(range(i_14 - w, i_14 + w + 1)) +\n",
    "                 list(range(i_34 - w, i_34 + w + 1)))\n",
    "\n",
    "label_sets = (edge_labels, flat_labels, corner_labels)\n",
    "\n",
    "for ax, labels in zip(ax_img, label_sets):\n",
    "    ax.imshow(overlay_labels(image, lbp, labels))\n",
    "\n",
    "for ax, labels, name in zip(ax_hist, label_sets, titles):\n",
    "    counts, _, bars = hist(ax, lbp)\n",
    "    highlight_bars(bars, labels)\n",
    "    ax.set_ylim(top=np.max(counts[:-1]))\n",
    "    ax.set_xlim(right=n_points + 2)\n",
    "    ax.set_title(name)\n",
    "\n",
    "ax_hist[0].set_ylabel('Percentage')\n",
    "for ax in ax_img:\n",
    "    ax.axis('off')\n"
   ]
  },
  {
   "cell_type": "code",
   "execution_count": null,
   "metadata": {},
   "outputs": [],
   "source": [
    "# GLCM"
   ]
  },
  {
   "cell_type": "code",
   "execution_count": null,
   "metadata": {},
   "outputs": [],
   "source": [
    "import matplotlib.pyplot as plt\n",
    "\n",
    "from skimage.feature import greycomatrix, greycoprops\n",
    "from skimage import data\n",
    "\n",
    "\n",
    "PATCH_SIZE = 21\n",
    "\n",
    "# open the camera image\n",
    "image = data.camera()\n",
    "\n",
    "# select some patches from grassy areas of the image\n",
    "grass_locations = [(280, 454), (342, 223), (444, 192), (455, 455)]\n",
    "grass_patches = []\n",
    "for loc in grass_locations:\n",
    "    grass_patches.append(image[loc[0]:loc[0] + PATCH_SIZE,\n",
    "                               loc[1]:loc[1] + PATCH_SIZE])\n",
    "\n",
    "# select some patches from sky areas of the image\n",
    "sky_locations = [(38, 34), (139, 28), (37, 437), (145, 379)]\n",
    "sky_patches = []\n",
    "for loc in sky_locations:\n",
    "    sky_patches.append(image[loc[0]:loc[0] + PATCH_SIZE,\n",
    "                             loc[1]:loc[1] + PATCH_SIZE])\n",
    "\n",
    "# compute some GLCM properties each patch\n",
    "xs = []\n",
    "ys = []\n",
    "for patch in (grass_patches + sky_patches):\n",
    "    glcm = greycomatrix(patch, distances=[5], angles=[0], levels=256,\n",
    "                        symmetric=True, normed=True)\n",
    "    xs.append(greycoprops(glcm, 'dissimilarity')[0, 0])\n",
    "    ys.append(greycoprops(glcm, 'correlation')[0, 0])\n",
    "\n",
    "# create the figure\n",
    "fig = plt.figure(figsize=(8, 8))\n",
    "\n",
    "# display original image with locations of patches\n",
    "ax = fig.add_subplot(3, 2, 1)\n",
    "ax.imshow(image, cmap=plt.cm.gray,\n",
    "          vmin=0, vmax=255)\n",
    "for (y, x) in grass_locations:\n",
    "    ax.plot(x + PATCH_SIZE / 2, y + PATCH_SIZE / 2, 'gs')\n",
    "for (y, x) in sky_locations:\n",
    "    ax.plot(x + PATCH_SIZE / 2, y + PATCH_SIZE / 2, 'bs')\n",
    "ax.set_xlabel('Original Image')\n",
    "ax.set_xticks([])\n",
    "ax.set_yticks([])\n",
    "ax.axis('image')\n",
    "\n",
    "# for each patch, plot (dissimilarity, correlation)\n",
    "ax = fig.add_subplot(3, 2, 2)\n",
    "ax.plot(xs[:len(grass_patches)], ys[:len(grass_patches)], 'go',\n",
    "        label='Grass')\n",
    "ax.plot(xs[len(grass_patches):], ys[len(grass_patches):], 'bo',\n",
    "        label='Sky')\n",
    "ax.set_xlabel('GLCM Dissimilarity')\n",
    "ax.set_ylabel('GLCM Correlation')\n",
    "ax.legend()\n",
    "\n",
    "# display the image patches\n",
    "for i, patch in enumerate(grass_patches):\n",
    "    ax = fig.add_subplot(3, len(grass_patches), len(grass_patches)*1 + i + 1)\n",
    "    ax.imshow(patch, cmap=plt.cm.gray,\n",
    "              vmin=0, vmax=255)\n",
    "    ax.set_xlabel('Grass %d' % (i + 1))\n",
    "\n",
    "for i, patch in enumerate(sky_patches):\n",
    "    ax = fig.add_subplot(3, len(sky_patches), len(sky_patches)*2 + i + 1)\n",
    "    ax.imshow(patch, cmap=plt.cm.gray,\n",
    "              vmin=0, vmax=255)\n",
    "    ax.set_xlabel('Sky %d' % (i + 1))\n",
    "\n",
    "\n",
    "# display the patches and plot\n",
    "fig.suptitle('Grey level co-occurrence matrix features', fontsize=14, y=1.05)\n",
    "plt.tight_layout()\n",
    "plt.show()\n"
   ]
  },
  {
   "cell_type": "markdown",
   "metadata": {},
   "source": [
    "## Descripteurs de forme : histogrammes de gradients orientés\n",
    "\n",
    "Les histogrammes de gradients orientés (HOG) sont des descripteurs d'image particulièrement populaires pour la détection d'objets. Ils ont été proposés par [Dalal et Triggs en 2005](http://ieeexplore.ieee.org/document/1467360/) notamment pour détecter des piétons dans des images.\n",
    "\n",
    "L'algorithme fonctionne en quatre temps :\n",
    "1. calculer les gradients de l'image selon $x$ et $y$\n",
    "2. calculer les histogrammes des intensités des gradients pour chaque orientation\n",
    "3. normaliser les histogrammes dans un bloc\n",
    "4. concaténer les histogrammes en un vecteur de caractéristique\n",
    "\n",
    "L'étape 1 se fait de la façon habituelle (filtre de Prewitt) et permet de calculer la norme et l'orientation des gradients. Pour une image couleur, on utilise le gradient de la couleur qui est le plus intense localement (ce qui permet d'être invariant à un changement de couleur).\n",
    "\n",
    "L'étape 2 divise l'image en cellules (*cells*) sur lesquelles calculer l'histogramme. Pour chaque cellule on calcule l'histogramme des intensités des gradients selon $k$ orientations (par exemple, $k=4$ pour considérer les orientations à 90° haut/bas/gauche/droite, $k=8$ pour aussi considérer les diagonales). Cela produit pour chaque cellules autant d'histogrammes que d'orientation. \n",
    "\n",
    "L'étape 3 considère un bloc, c'est-à-dire un ensemble de $(c_x, c_y)$ cellules. Pour un bloc, on normalise les histogrammes des cellules de ce bloc en divisant par la norme euclidienne de l'histogramme global du bloc.\n",
    "\n",
    "L'étape 4 collecte les histogrammes des cellules de tous les blocs et les concatène. Une cellule peut appartenir à plusieurs blocs, auquel cas son histogramme apparaît donc plusieurs fois dans la caractéristique finale (mais avec des normalisations différentes)."
   ]
  },
  {
   "cell_type": "markdown",
   "metadata": {},
   "source": [
    "Voyons ce que cela donne sur un exemple :"
   ]
  },
  {
   "cell_type": "code",
   "execution_count": null,
   "metadata": {},
   "outputs": [],
   "source": [
    "from skimage.feature import hog\n",
    "from skimage import data, exposure\n",
    "\n",
    "image = data.astronaut()\n",
    "\n",
    "descriptor, hog_image = hog(image, orientations=8, pixels_per_cell=(16, 16),\n",
    "                    cells_per_block=(1, 1), visualize=True, multichannel=True)\n",
    "\n",
    "fig, (ax1, ax2) = plt.subplots(1, 2, figsize=(8, 4), sharex=True, sharey=True)\n",
    "\n",
    "ax1.axis('off')\n",
    "ax1.imshow(image, cmap=\"gray\")\n",
    "ax1.set_title(\"Image\")\n",
    "\n",
    "# Amélioration du contraste\n",
    "hog_image = exposure.rescale_intensity(hog_image, in_range=(0, 10))\n",
    "\n",
    "ax2.axis('off')\n",
    "ax2.imshow(hog_image, cmap=\"gray\")\n",
    "ax2.set_title(\"HOG\")\n",
    "plt.show()"
   ]
  },
  {
   "cell_type": "markdown",
   "metadata": {},
   "source": [
    "Ici, le paramètre `visualize=True` permet d'obtenir la visualisation à droite. En général, on se contente du descripteur :"
   ]
  },
  {
   "cell_type": "code",
   "execution_count": null,
   "metadata": {},
   "outputs": [],
   "source": [
    "descriptor.shape"
   ]
  },
  {
   "cell_type": "markdown",
   "metadata": {},
   "source": [
    "L'image $512\\times512$ devient donc décrite par un vecteur de taille $8192$ qui contient (on l'espère) toutes les informations utiles concernant la forme des objets contenus dans l'image. "
   ]
  },
  {
   "cell_type": "markdown",
   "metadata": {},
   "source": [
    "# Applications des descripteurs : reconnaissance d'image\n",
    "\n",
    "Une fois les descripteurs d'image obtenus, leur principal intérêt est de pouvoir reconnaître automatiquement le contenu d'une image ou de retrouver une image similaire (comme nous l'avons fait avec les histogrammes de couleurs). La reconnaissance d'objet à partir des descripteurs ou des caractéristiques extraites de l'image passe généralement par des algorithmes d'apprentissage automatique (*machine learning*), ce qui sort du cadre de ce cours.\n",
    "\n",
    "Néanmoins, on peut évoquer l'algorithme le plus simple : la classification par $k$ plus proches voisins."
   ]
  },
  {
   "cell_type": "markdown",
   "metadata": {},
   "source": [
    "## k-nearest neighbors classification\n",
    "\n",
    "Imaginons une collection de $n$ images $I_1, I_2, \\dots, I_n$. Ces images sont réparties dans $p$ groupes (par exemple, les images de chat, de chien, de raton-laveur, etc.) que l'on représente par une étiquette $y_i$ (un entier).\n",
    "\n",
    "Grâce aux descripteurs $v_1, v_2, \\dots, v_n$ calculés sur les images, on peut calculer une distance entre chaque paire d'images, définie par :\n",
    "$$d(I_i, I_j) = \\| v_i - v_j \\|$$\n",
    "\n",
    "À partir de là, admettons que nous recevons une nouvelle image $I_{n+1}$ dont **on ne connaît pas le groupe**. On aimerait savoir quel animal est représenté dans cette image. Pour ce faire, on peut aller rechercher dans la banque d'exemples les $k$ images les plus proches (au sens de la distance $d$) de $I_{n+1}$. On rassemble ensuite les $k$ étiquettes correspondantes et, par un vote majoritaire, on décide que l'étiquette $y_{n+1}$ doit être l'étiquette majoritaire parmi les $k$ voisins trouvés."
   ]
  },
  {
   "cell_type": "markdown",
   "metadata": {},
   "source": [
    "Commençons par charger nos collections d'images. On les redimensionne en (512, 512) pour plus de simplicité. Nous avons ici deux groupes : les images de voiture et les images de vélo."
   ]
  },
  {
   "cell_type": "code",
   "execution_count": null,
   "metadata": {},
   "outputs": [],
   "source": [
    "from skimage.transform import resize\n",
    "\n",
    "size = 256\n",
    "\n",
    "bikes = [resize(io.imread(f\"velo{idx}.jpg\"), (size, size)) for idx in range(1,6)]\n",
    "cars = [resize(io.imread(f\"voiture{idx}.jpg\"), (size, size)) for idx in range(1,6)]"
   ]
  },
  {
   "cell_type": "code",
   "execution_count": null,
   "metadata": {},
   "outputs": [],
   "source": [
    "plt.imshow(bikes[0]) and plt.show()\n",
    "plt.imshow(cars[0]) and plt.show()"
   ]
  },
  {
   "cell_type": "markdown",
   "metadata": {},
   "source": [
    "Calculons les descripteurs HOG pour toutes ces images :"
   ]
  },
  {
   "cell_type": "code",
   "execution_count": null,
   "metadata": {},
   "outputs": [],
   "source": [
    "bikes_hog = [hog(img, orientations=8, pixels_per_cell=(16, 16),\n",
    "                    cells_per_block=(1, 1), multichannel=True) for img in bikes]\n",
    "cars_hog = [hog(img, orientations=8, pixels_per_cell=(16, 16),\n",
    "                    cells_per_block=(1, 1), multichannel=True) for img in cars]\n",
    "\n",
    "# étiquettes (1 pour les vélos, 2 pour les voitures)\n",
    "bikes_labels = 1 * np.ones((len(bikes_hog), ))\n",
    "cars_labels = 2 * np.ones((len(cars_hog), ))"
   ]
  },
  {
   "cell_type": "markdown",
   "metadata": {},
   "source": [
    "On créé la base de données :"
   ]
  },
  {
   "cell_type": "code",
   "execution_count": null,
   "metadata": {},
   "outputs": [],
   "source": [
    "dataset = np.concatenate((bikes_hog, cars_hog))\n",
    "labels = np.concatenate((bikes_labels, cars_labels)).astype(\"int\")"
   ]
  },
  {
   "cell_type": "markdown",
   "metadata": {},
   "source": [
    "Chargeons une nouvelle image. On la redimensionne en (256, 256), on calcule ses HOG puis on calcule les scores pour chaque image de la base de données avant de trier les images par distance croissante :"
   ]
  },
  {
   "cell_type": "code",
   "execution_count": null,
   "metadata": {},
   "outputs": [],
   "source": [
    "query = resize(io.imread(\"velo6.jpg\"), (size, size))\n",
    "plt.imshow(query) and plt.show()\n",
    "\n",
    "hog_query = hog(query, orientations=8, pixels_per_cell=(16, 16),\n",
    "                    cells_per_block=(1, 1), multichannel=True)\n",
    "scores = np.array([np.linalg.norm(hog_query - hog) for hog in dataset])"
   ]
  },
  {
   "cell_type": "markdown",
   "metadata": {},
   "source": [
    "Les images les plus proches sont les suivantes : "
   ]
  },
  {
   "cell_type": "code",
   "execution_count": null,
   "metadata": {},
   "outputs": [],
   "source": [
    "closest = np.argsort(scores)\n",
    "print(closest)"
   ]
  },
  {
   "cell_type": "markdown",
   "metadata": {},
   "source": [
    "On peut conserver seulement les $k$ plus proches, par exemple $k=3$. On cherche alors l'étiquette majoritaire des les étiquettes des images les plus similaires à la requête :"
   ]
  },
  {
   "cell_type": "code",
   "execution_count": null,
   "metadata": {},
   "outputs": [],
   "source": [
    "k = 3\n",
    "closest = closest[:k]\n",
    "closest_labels = labels[closest]\n",
    "print(f\"Étiquettes des {k} images les plus proches : {closest_labels}\")\n",
    "print(f\"Étiquette majoritaire : {np.argmax(np.bincount(closest_labels))}\")"
   ]
  },
  {
   "cell_type": "markdown",
   "metadata": {},
   "source": [
    "Vous pouvez tester avec l'image `\"voiture6.jpg\"` pour un autre exemple."
   ]
  },
  {
   "attachments": {
    "image.png": {
     "image/png": "[encoded data removed]"
    }
   },
   "cell_type": "markdown",
   "metadata": {},
   "source": [
    "## Détection de visage : méthode de Viola et Jones\n",
    "\n",
    "Pour terminer, parlons d'une application très courante lorsque l'on cherche à construire un outil interactif : la détection de visage. La méthode la plus populaire est celle introduite en 2004 par [Viola et Jones](https://www.merl.com/publications/docs/TR2004-043.pdf).\n",
    "\n",
    "Pour détecter rapidement des visages, Viola et Jones proposent des caractéristiques rapides à calculer : les caractéristiques pseudo-Haar.\n",
    "\n",
    "Dans une fenêtre rectangulaire, ces caractéristiques vont calculer la différences des sommes des pixels contenus dans les régions blanches et dans les régions noires. Les régions sont rectangulaires et peuvent être définies de différentes façons :\n",
    "![image.png](attachment:image.png)\n",
    "\n",
    "Par exemple pour (1), la caractéristique est obtenue en calculant :\n",
    "- la somme des pixels dans la partie blanche à gauche,\n",
    "- la somme des pixels dans la partie noire à droite,\n",
    "- la différence entre la somme « noire » et la somme « blanche ».\n",
    "\n",
    "Viola et Jones utilisent toutes les combinaisons pour construire un ensemble de caractéristiques.\n",
    "\n",
    "Pour pouvoir calculer plus rapidement ces caractéristiques, Viola et Jones proposent d'utiliser l'image intégrale, définie par :\n",
    "\n",
    "$$II[x,y] = \\sum_{x'\\leq x, y' \\leq y} I[x', y']$$\n",
    "\n",
    "c'est-à-dire que le pixel $(x,y)$ de l'image intégrale est obtenu en sommant tous les pixels au-dessus de lui et à sa gauche dans l'image initiale. En utilisant l'image intégrale, le calcul des caractéristiques de pseudo-Haar se fait en temps constant."
   ]
  },
  {
   "attachments": {
    "image.png": {
     "image/png": "[encoded data removed]"
    }
   },
   "cell_type": "markdown",
   "metadata": {},
   "source": [
    "En pratique, les caractéristiques sont calculées à toutes les positions et à toutes les échelles pour une fenêtre de détection (par exemple $24\\times 24$). Cela donne de très nombreuses caractéristiques (plusieurs dizaines de milliers). Celles-ci sont ensuite traitées par *machine learning* pour décider si la fenêtre de détection contient un visage ou pas.\n",
    "\n",
    "On ne détaille pas la partie ML de l'algorithme mais, grossièrement, la méthode de Viola et Jones va passer chaque fenêtre de détection dans une cascade de 3 classifieurs. Le premier classifieur (étage 1) est rapide mais peu précis (il dit souvent oui), le deuxième classifieur (étage 2) est un peu moins rapide mais plus précis et le classifier final (étage 3) est moins rapide mais le plus performant. Cela permet de rapidement éjecter (en peu de calculs) les fenêtres sans visage.\n",
    "\n",
    "![image.png](attachment:image.png)"
   ]
  },
  {
   "cell_type": "markdown",
   "metadata": {},
   "source": [
    "Concrètement la méthode de Viola et Jones est une méthode de recherche exhaustive : on va tester toutes les fenêtres possibles de l'image à toutes les échelles (dans une pyramide, comme pour ORB). Cette exhaustivité est possible car le calcul des caractéristiques de pseudo-Haar est très rapide et le rejet des (nombreuses et largement majoritaires) fenêtres négatives (sans visage) se fait de façon efficace."
   ]
  },
  {
   "cell_type": "markdown",
   "metadata": {},
   "source": [
    "Une version préentraînée de la méthode de Viola et Jones pour la détection de visages est disponible dans `scikit-image` : "
   ]
  },
  {
   "cell_type": "code",
   "execution_count": null,
   "metadata": {},
   "outputs": [],
   "source": [
    "from skimage.feature import Cascade\n",
    "\n",
    "# Charge le fichier contenant le modèle préentraîné\n",
    "trained = skimage.data.lbp_frontal_face_cascade_filename()\n",
    "\n",
    "# Détecteur\n",
    "detector = Cascade(trained)\n",
    "\n",
    "image = data.astronaut()\n",
    "\n",
    "detected = detector.detect_multi_scale(image,\n",
    "                                       scale_factor=1.2,\n",
    "                                       step_ratio=1,\n",
    "                                       min_size=(60,60),\n",
    "                                       max_size=(120, 120))"
   ]
  },
  {
   "cell_type": "markdown",
   "metadata": {},
   "source": [
    "Les paramètres importants du détecteur sont :\n",
    "- `scale_factor` : facteur d'échelle de la pyramide d'images,\n",
    "- `step_ratio` : facteur par lequel est multiplié le pas de la recherche exhaustive à chaque échelle. 1 correspond à une recherche exhaustive. En général, entre 1 et 1,5.\n",
    "- `min_size` : la taille minimale de visage à détecter,\n",
    "- `max_size` : la taille maximale de visage à détecter.\n",
    "\n",
    "Les résultats de la détection donnent :\n",
    "- `r` : la ligne du coin en haut à gauche du rectangle qui englobe le visage,\n",
    "- `c` : idem mais pour la colonne,\n",
    "- `width`/`height`: la largeur et la hauteur du rectangle."
   ]
  },
  {
   "cell_type": "code",
   "execution_count": null,
   "metadata": {},
   "outputs": [],
   "source": [
    "print(detected)"
   ]
  },
  {
   "cell_type": "markdown",
   "metadata": {},
   "source": [
    "On peut dessiner avec `matplotlib` le rectangle :"
   ]
  },
  {
   "cell_type": "code",
   "execution_count": null,
   "metadata": {},
   "outputs": [],
   "source": [
    "from matplotlib import patches\n",
    "\n",
    "fig, ax = plt.subplots()\n",
    "plt.imshow(image, cmap=\"gray\")\n",
    "\n",
    "for patch in detected:\n",
    "\n",
    "    ax.add_patch(\n",
    "        patches.Rectangle(\n",
    "            (patch['c'], patch['r']),\n",
    "            patch['width'],\n",
    "            patch['height'],\n",
    "            fill=False,\n",
    "            color='r',\n",
    "            linewidth=2\n",
    "        )\n",
    "    )\n",
    "\n",
    "plt.show()"
   ]
  },
  {
   "cell_type": "markdown",
   "metadata": {},
   "source": [
    "### À vous de jouer !\n",
    "\n",
    "Essayez ces algorithmes avec vos propres images. Notamment, essayez d'appliquer des déformations géométriques sur ces images. Les algorithmes sont-ils robustes ? Si non, à quelles transformations ne sont-ils pas invariants ?"
   ]
  },
  {
   "cell_type": "code",
   "execution_count": null,
   "metadata": {},
   "outputs": [],
   "source": []
  }
 ],
 "metadata": {
  "kernelspec": {
   "display_name": "Python 3",
   "language": "python",
   "name": "python3"
  },
  "language_info": {
   "codemirror_mode": {
    "name": "ipython",
    "version": 3
   },
   "file_extension": ".py",
   "mimetype": "text/x-python",
   "name": "python",
   "nbconvert_exporter": "python",
   "pygments_lexer": "ipython3",
   "version": "3.9.2"
  }
 },
 "nbformat": 4,
 "nbformat_minor": 4
}
